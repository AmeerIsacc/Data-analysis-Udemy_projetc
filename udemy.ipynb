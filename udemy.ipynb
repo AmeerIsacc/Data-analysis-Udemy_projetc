{
 "cells": [
  {
   "cell_type": "code",
   "execution_count": 229,
   "id": "5c4f567a-b565-40dd-af7b-08f6d44e7174",
   "metadata": {},
   "outputs": [],
   "source": [
    "import pandas as pd\n",
    "import matplotlib.pyplot as plt\n",
    "import seaborn as sns"
   ]
  },
  {
   "cell_type": "code",
   "execution_count": 230,
   "id": "1a14beb5-f629-4558-bd71-cf1edb5f2134",
   "metadata": {},
   "outputs": [
    {
     "data": {
      "text/html": [
       "<div>\n",
       "<style scoped>\n",
       "    .dataframe tbody tr th:only-of-type {\n",
       "        vertical-align: middle;\n",
       "    }\n",
       "\n",
       "    .dataframe tbody tr th {\n",
       "        vertical-align: top;\n",
       "    }\n",
       "\n",
       "    .dataframe thead th {\n",
       "        text-align: right;\n",
       "    }\n",
       "</style>\n",
       "<table border=\"1\" class=\"dataframe\">\n",
       "  <thead>\n",
       "    <tr style=\"text-align: right;\">\n",
       "      <th></th>\n",
       "      <th>Unnamed: 0</th>\n",
       "      <th>course_id</th>\n",
       "      <th>course_title</th>\n",
       "      <th>url</th>\n",
       "      <th>is_paid</th>\n",
       "      <th>price</th>\n",
       "      <th>num_subscribers</th>\n",
       "      <th>num_reviews</th>\n",
       "      <th>num_lectures</th>\n",
       "      <th>level</th>\n",
       "      <th>content_duration</th>\n",
       "      <th>published_timestamp</th>\n",
       "      <th>subject</th>\n",
       "      <th>clean_course_title</th>\n",
       "    </tr>\n",
       "  </thead>\n",
       "  <tbody>\n",
       "    <tr>\n",
       "      <th>0</th>\n",
       "      <td>0</td>\n",
       "      <td>1070968</td>\n",
       "      <td>Ultimate Investment Banking Course</td>\n",
       "      <td>https://www.udemy.com/ultimate-investment-bank...</td>\n",
       "      <td>True</td>\n",
       "      <td>200</td>\n",
       "      <td>2147</td>\n",
       "      <td>23</td>\n",
       "      <td>51</td>\n",
       "      <td>All Levels</td>\n",
       "      <td>1.5 hours</td>\n",
       "      <td>2017-01-18T20:58:58Z</td>\n",
       "      <td>Business Finance</td>\n",
       "      <td>Ultimate Investment Banking Course</td>\n",
       "    </tr>\n",
       "    <tr>\n",
       "      <th>1</th>\n",
       "      <td>1</td>\n",
       "      <td>1113822</td>\n",
       "      <td>Complete GST Course &amp; Certification - Grow You...</td>\n",
       "      <td>https://www.udemy.com/goods-and-services-tax/</td>\n",
       "      <td>True</td>\n",
       "      <td>75</td>\n",
       "      <td>2792</td>\n",
       "      <td>923</td>\n",
       "      <td>274</td>\n",
       "      <td>All Levels</td>\n",
       "      <td>39 hours</td>\n",
       "      <td>2017-03-09T16:34:20Z</td>\n",
       "      <td>Business Finance</td>\n",
       "      <td>Complete GST Course  Certification  Grow Practice</td>\n",
       "    </tr>\n",
       "    <tr>\n",
       "      <th>2</th>\n",
       "      <td>2</td>\n",
       "      <td>1006314</td>\n",
       "      <td>Financial Modeling for Business Analysts and C...</td>\n",
       "      <td>https://www.udemy.com/financial-modeling-for-b...</td>\n",
       "      <td>True</td>\n",
       "      <td>45</td>\n",
       "      <td>2174</td>\n",
       "      <td>74</td>\n",
       "      <td>51</td>\n",
       "      <td>Intermediate Level</td>\n",
       "      <td>2.5 hours</td>\n",
       "      <td>2016-12-19T19:26:30Z</td>\n",
       "      <td>Business Finance</td>\n",
       "      <td>Financial Modeling Business Analysts Consultants</td>\n",
       "    </tr>\n",
       "    <tr>\n",
       "      <th>3</th>\n",
       "      <td>3</td>\n",
       "      <td>1210588</td>\n",
       "      <td>Beginner to Pro - Financial Analysis in Excel ...</td>\n",
       "      <td>https://www.udemy.com/complete-excel-finance-c...</td>\n",
       "      <td>True</td>\n",
       "      <td>95</td>\n",
       "      <td>2451</td>\n",
       "      <td>11</td>\n",
       "      <td>36</td>\n",
       "      <td>All Levels</td>\n",
       "      <td>3 hours</td>\n",
       "      <td>2017-05-30T20:07:24Z</td>\n",
       "      <td>Business Finance</td>\n",
       "      <td>Beginner Pro  Financial Analysis Excel 2017</td>\n",
       "    </tr>\n",
       "    <tr>\n",
       "      <th>4</th>\n",
       "      <td>4</td>\n",
       "      <td>1011058</td>\n",
       "      <td>How To Maximize Your Profits Trading Options</td>\n",
       "      <td>https://www.udemy.com/how-to-maximize-your-pro...</td>\n",
       "      <td>True</td>\n",
       "      <td>200</td>\n",
       "      <td>1276</td>\n",
       "      <td>45</td>\n",
       "      <td>26</td>\n",
       "      <td>Intermediate Level</td>\n",
       "      <td>2 hours</td>\n",
       "      <td>2016-12-13T14:57:18Z</td>\n",
       "      <td>Business Finance</td>\n",
       "      <td>Maximize Profits Trading Options</td>\n",
       "    </tr>\n",
       "    <tr>\n",
       "      <th>...</th>\n",
       "      <td>...</td>\n",
       "      <td>...</td>\n",
       "      <td>...</td>\n",
       "      <td>...</td>\n",
       "      <td>...</td>\n",
       "      <td>...</td>\n",
       "      <td>...</td>\n",
       "      <td>...</td>\n",
       "      <td>...</td>\n",
       "      <td>...</td>\n",
       "      <td>...</td>\n",
       "      <td>...</td>\n",
       "      <td>...</td>\n",
       "      <td>...</td>\n",
       "    </tr>\n",
       "    <tr>\n",
       "      <th>3678</th>\n",
       "      <td>3678</td>\n",
       "      <td>775618</td>\n",
       "      <td>Learn jQuery from Scratch - Master of JavaScri...</td>\n",
       "      <td>https://www.udemy.com/easy-jquery-for-beginner...</td>\n",
       "      <td>True</td>\n",
       "      <td>100</td>\n",
       "      <td>1040</td>\n",
       "      <td>14</td>\n",
       "      <td>21</td>\n",
       "      <td>All Levels</td>\n",
       "      <td>2 hours</td>\n",
       "      <td>2016-06-14T17:36:46Z</td>\n",
       "      <td>Web Development</td>\n",
       "      <td>Learn jQuery Scratch  Master JavaScript library</td>\n",
       "    </tr>\n",
       "    <tr>\n",
       "      <th>3679</th>\n",
       "      <td>3679</td>\n",
       "      <td>1088178</td>\n",
       "      <td>How To Design A WordPress Website With No Codi...</td>\n",
       "      <td>https://www.udemy.com/how-to-make-a-wordpress-...</td>\n",
       "      <td>True</td>\n",
       "      <td>25</td>\n",
       "      <td>306</td>\n",
       "      <td>3</td>\n",
       "      <td>42</td>\n",
       "      <td>Beginner Level</td>\n",
       "      <td>3.5 hours</td>\n",
       "      <td>2017-03-10T22:24:30Z</td>\n",
       "      <td>Web Development</td>\n",
       "      <td>Design WordPress Website Coding</td>\n",
       "    </tr>\n",
       "    <tr>\n",
       "      <th>3680</th>\n",
       "      <td>3680</td>\n",
       "      <td>635248</td>\n",
       "      <td>Learn and Build using Polymer</td>\n",
       "      <td>https://www.udemy.com/learn-and-build-using-po...</td>\n",
       "      <td>True</td>\n",
       "      <td>40</td>\n",
       "      <td>513</td>\n",
       "      <td>169</td>\n",
       "      <td>48</td>\n",
       "      <td>All Levels</td>\n",
       "      <td>3.5 hours</td>\n",
       "      <td>2015-12-30T16:41:42Z</td>\n",
       "      <td>Web Development</td>\n",
       "      <td>Learn Build Polymer</td>\n",
       "    </tr>\n",
       "    <tr>\n",
       "      <th>3681</th>\n",
       "      <td>3681</td>\n",
       "      <td>905096</td>\n",
       "      <td>CSS Animations: Create Amazing Effects on Your...</td>\n",
       "      <td>https://www.udemy.com/css-animations-create-am...</td>\n",
       "      <td>True</td>\n",
       "      <td>50</td>\n",
       "      <td>300</td>\n",
       "      <td>31</td>\n",
       "      <td>38</td>\n",
       "      <td>All Levels</td>\n",
       "      <td>3 hours</td>\n",
       "      <td>2016-08-11T19:06:15Z</td>\n",
       "      <td>Web Development</td>\n",
       "      <td>CSS Animations Create Amazing Effects Website</td>\n",
       "    </tr>\n",
       "    <tr>\n",
       "      <th>3682</th>\n",
       "      <td>3682</td>\n",
       "      <td>297602</td>\n",
       "      <td>Using MODX CMS to Build Websites: A Beginner's...</td>\n",
       "      <td>https://www.udemy.com/using-modx-cms-to-build-...</td>\n",
       "      <td>True</td>\n",
       "      <td>45</td>\n",
       "      <td>901</td>\n",
       "      <td>36</td>\n",
       "      <td>20</td>\n",
       "      <td>Beginner Level</td>\n",
       "      <td>2 hours</td>\n",
       "      <td>2014-09-28T19:51:11Z</td>\n",
       "      <td>Web Development</td>\n",
       "      <td>MODX CMS Build Websites Beginners Guide</td>\n",
       "    </tr>\n",
       "  </tbody>\n",
       "</table>\n",
       "<p>3683 rows × 14 columns</p>\n",
       "</div>"
      ],
      "text/plain": [
       "      Unnamed: 0  course_id  \\\n",
       "0              0    1070968   \n",
       "1              1    1113822   \n",
       "2              2    1006314   \n",
       "3              3    1210588   \n",
       "4              4    1011058   \n",
       "...          ...        ...   \n",
       "3678        3678     775618   \n",
       "3679        3679    1088178   \n",
       "3680        3680     635248   \n",
       "3681        3681     905096   \n",
       "3682        3682     297602   \n",
       "\n",
       "                                           course_title  \\\n",
       "0                    Ultimate Investment Banking Course   \n",
       "1     Complete GST Course & Certification - Grow You...   \n",
       "2     Financial Modeling for Business Analysts and C...   \n",
       "3     Beginner to Pro - Financial Analysis in Excel ...   \n",
       "4          How To Maximize Your Profits Trading Options   \n",
       "...                                                 ...   \n",
       "3678  Learn jQuery from Scratch - Master of JavaScri...   \n",
       "3679  How To Design A WordPress Website With No Codi...   \n",
       "3680                      Learn and Build using Polymer   \n",
       "3681  CSS Animations: Create Amazing Effects on Your...   \n",
       "3682  Using MODX CMS to Build Websites: A Beginner's...   \n",
       "\n",
       "                                                    url is_paid price  \\\n",
       "0     https://www.udemy.com/ultimate-investment-bank...    True   200   \n",
       "1         https://www.udemy.com/goods-and-services-tax/    True    75   \n",
       "2     https://www.udemy.com/financial-modeling-for-b...    True    45   \n",
       "3     https://www.udemy.com/complete-excel-finance-c...    True    95   \n",
       "4     https://www.udemy.com/how-to-maximize-your-pro...    True   200   \n",
       "...                                                 ...     ...   ...   \n",
       "3678  https://www.udemy.com/easy-jquery-for-beginner...    True   100   \n",
       "3679  https://www.udemy.com/how-to-make-a-wordpress-...    True    25   \n",
       "3680  https://www.udemy.com/learn-and-build-using-po...    True    40   \n",
       "3681  https://www.udemy.com/css-animations-create-am...    True    50   \n",
       "3682  https://www.udemy.com/using-modx-cms-to-build-...    True    45   \n",
       "\n",
       "      num_subscribers  num_reviews  num_lectures               level  \\\n",
       "0                2147           23            51          All Levels   \n",
       "1                2792          923           274          All Levels   \n",
       "2                2174           74            51  Intermediate Level   \n",
       "3                2451           11            36          All Levels   \n",
       "4                1276           45            26  Intermediate Level   \n",
       "...               ...          ...           ...                 ...   \n",
       "3678             1040           14            21          All Levels   \n",
       "3679              306            3            42      Beginner Level   \n",
       "3680              513          169            48          All Levels   \n",
       "3681              300           31            38          All Levels   \n",
       "3682              901           36            20      Beginner Level   \n",
       "\n",
       "     content_duration   published_timestamp           subject  \\\n",
       "0           1.5 hours  2017-01-18T20:58:58Z  Business Finance   \n",
       "1            39 hours  2017-03-09T16:34:20Z  Business Finance   \n",
       "2           2.5 hours  2016-12-19T19:26:30Z  Business Finance   \n",
       "3             3 hours  2017-05-30T20:07:24Z  Business Finance   \n",
       "4             2 hours  2016-12-13T14:57:18Z  Business Finance   \n",
       "...               ...                   ...               ...   \n",
       "3678          2 hours  2016-06-14T17:36:46Z   Web Development   \n",
       "3679        3.5 hours  2017-03-10T22:24:30Z   Web Development   \n",
       "3680        3.5 hours  2015-12-30T16:41:42Z   Web Development   \n",
       "3681          3 hours  2016-08-11T19:06:15Z   Web Development   \n",
       "3682          2 hours  2014-09-28T19:51:11Z   Web Development   \n",
       "\n",
       "                                     clean_course_title  \n",
       "0                    Ultimate Investment Banking Course  \n",
       "1     Complete GST Course  Certification  Grow Practice  \n",
       "2      Financial Modeling Business Analysts Consultants  \n",
       "3           Beginner Pro  Financial Analysis Excel 2017  \n",
       "4                      Maximize Profits Trading Options  \n",
       "...                                                 ...  \n",
       "3678    Learn jQuery Scratch  Master JavaScript library  \n",
       "3679                    Design WordPress Website Coding  \n",
       "3680                                Learn Build Polymer  \n",
       "3681      CSS Animations Create Amazing Effects Website  \n",
       "3682            MODX CMS Build Websites Beginners Guide  \n",
       "\n",
       "[3683 rows x 14 columns]"
      ]
     },
     "execution_count": 230,
     "metadata": {},
     "output_type": "execute_result"
    }
   ],
   "source": [
    "df = pd.read_csv('udemy_courses_clean.csv')\n",
    "df"
   ]
  },
  {
   "cell_type": "code",
   "execution_count": 231,
   "id": "aaf0c31e-ca05-440e-8c9c-334d7b106675",
   "metadata": {},
   "outputs": [
    {
     "data": {
      "text/plain": [
       "Index(['Unnamed: 0', 'course_id', 'course_title', 'url', 'is_paid', 'price',\n",
       "       'num_subscribers', 'num_reviews', 'num_lectures', 'level',\n",
       "       'content_duration', 'published_timestamp', 'subject',\n",
       "       'clean_course_title'],\n",
       "      dtype='object')"
      ]
     },
     "execution_count": 231,
     "metadata": {},
     "output_type": "execute_result"
    }
   ],
   "source": [
    "df.columns"
   ]
  },
  {
   "cell_type": "code",
   "execution_count": 232,
   "id": "2e13f631-232d-408d-8f07-abff816b585c",
   "metadata": {},
   "outputs": [
    {
     "name": "stdout",
     "output_type": "stream",
     "text": [
      "<class 'pandas.core.frame.DataFrame'>\n",
      "RangeIndex: 3683 entries, 0 to 3682\n",
      "Data columns (total 14 columns):\n",
      " #   Column               Non-Null Count  Dtype \n",
      "---  ------               --------------  ----- \n",
      " 0   Unnamed: 0           3683 non-null   int64 \n",
      " 1   course_id            3683 non-null   int64 \n",
      " 2   course_title         3683 non-null   object\n",
      " 3   url                  3683 non-null   object\n",
      " 4   is_paid              3683 non-null   object\n",
      " 5   price                3683 non-null   object\n",
      " 6   num_subscribers      3683 non-null   int64 \n",
      " 7   num_reviews          3683 non-null   int64 \n",
      " 8   num_lectures         3683 non-null   int64 \n",
      " 9   level                3683 non-null   object\n",
      " 10  content_duration     3683 non-null   object\n",
      " 11  published_timestamp  3683 non-null   object\n",
      " 12  subject              3683 non-null   object\n",
      " 13  clean_course_title   3663 non-null   object\n",
      "dtypes: int64(5), object(9)\n",
      "memory usage: 403.0+ KB\n"
     ]
    }
   ],
   "source": [
    "df.info()"
   ]
  },
  {
   "cell_type": "code",
   "execution_count": 233,
   "id": "70e0e685-f933-4706-9493-bab4b3e19b96",
   "metadata": {},
   "outputs": [
    {
     "data": {
      "text/plain": [
       "Unnamed: 0              0\n",
       "course_id               0\n",
       "course_title            0\n",
       "url                     0\n",
       "is_paid                 0\n",
       "price                   0\n",
       "num_subscribers         0\n",
       "num_reviews             0\n",
       "num_lectures            0\n",
       "level                   0\n",
       "content_duration        0\n",
       "published_timestamp     0\n",
       "subject                 0\n",
       "clean_course_title     20\n",
       "dtype: int64"
      ]
     },
     "execution_count": 233,
     "metadata": {},
     "output_type": "execute_result"
    }
   ],
   "source": [
    "df.isnull().sum()"
   ]
  },
  {
   "cell_type": "markdown",
   "id": "05c93e35-15bf-462a-9aed-a1b43fc716f9",
   "metadata": {},
   "source": [
    "Subject"
   ]
  },
  {
   "cell_type": "code",
   "execution_count": 234,
   "id": "bee61e46-4efc-40ee-a7a0-b03852554bb1",
   "metadata": {},
   "outputs": [
    {
     "data": {
      "text/plain": [
       "array(['Business Finance', 'Graphic Design', 'Musical Instruments',\n",
       "       'Web Development'], dtype=object)"
      ]
     },
     "execution_count": 234,
     "metadata": {},
     "output_type": "execute_result"
    }
   ],
   "source": [
    "display_subject = df['subject'].unique()\n",
    "display_subject"
   ]
  },
  {
   "cell_type": "code",
   "execution_count": 235,
   "id": "2b2476fc-2cdb-48a7-9a79-eede6078cd7d",
   "metadata": {},
   "outputs": [
    {
     "data": {
      "text/plain": [
       "4"
      ]
     },
     "execution_count": 235,
     "metadata": {},
     "output_type": "execute_result"
    }
   ],
   "source": [
    "subject_num = len(df['subject'].unique())\n",
    "subject_num"
   ]
  },
  {
   "cell_type": "code",
   "execution_count": 236,
   "id": "d4e1f180-8f35-4bd3-86cf-10e681fd987b",
   "metadata": {},
   "outputs": [
    {
     "data": {
      "text/plain": [
       "subject\n",
       "Web Development        1200\n",
       "Business Finance       1199\n",
       "Musical Instruments     681\n",
       "Graphic Design          603\n",
       "Name: count, dtype: int64"
      ]
     },
     "execution_count": 236,
     "metadata": {},
     "output_type": "execute_result"
    }
   ],
   "source": [
    "display_sub_elements = df['subject'].value_counts()\n",
    "display_sub_elements"
   ]
  },
  {
   "cell_type": "code",
   "execution_count": 237,
   "id": "54f78e10-ace8-43b1-ad45-06dd24f504b5",
   "metadata": {},
   "outputs": [
    {
     "data": {
      "image/png": "[encoded data removed]",
      "text/plain": [
       "<Figure size 640x480 with 1 Axes>"
      ]
     },
     "metadata": {},
     "output_type": "display_data"
    }
   ],
   "source": [
    "subject_shart = df['subject'].value_counts().plot(kind='bar')\n",
    "plt.xticks(rotation=30)\n",
    "plt.show()"
   ]
  },
  {
   "cell_type": "code",
   "execution_count": 238,
   "id": "b1434965-11f2-4eea-a18f-8008ca59a12f",
   "metadata": {},
   "outputs": [
    {
     "data": {
      "image/png": "[encoded data removed]",
      "text/plain": [
       "<Figure size 640x480 with 1 Axes>"
      ]
     },
     "metadata": {},
     "output_type": "display_data"
    }
   ],
   "source": [
    "pie_sub_shart = df['subject'].value_counts().plot(kind='pie')\n",
    "plt.show()"
   ]
  },
  {
   "cell_type": "raw",
   "id": "7b458063-acac-4fda-a9e1-eab1294cd7f2",
   "metadata": {},
   "source": [
    "Using Seaborn"
   ]
  },
  {
   "cell_type": "code",
   "execution_count": 239,
   "id": "bc8eccce-2a8a-4c76-91ce-3d26f769373b",
   "metadata": {},
   "outputs": [
    {
     "data": {
      "image/png": "[encoded data removed]",
      "text/plain": [
       "<Figure size 800x800 with 1 Axes>"
      ]
     },
     "metadata": {},
     "output_type": "display_data"
    }
   ],
   "source": [
    "plt.figure(figsize=(8,8))\n",
    "sns.countplot(x=df['subject'],data=df)\n",
    "plt.xticks(rotation=30)\n",
    "plt.show()"
   ]
  },
  {
   "cell_type": "code",
   "execution_count": 240,
   "id": "4a0c35b6",
   "metadata": {},
   "outputs": [],
   "source": [
    "#Number of subscribers"
   ]
  },
  {
   "cell_type": "code",
   "execution_count": 241,
   "id": "78e29193",
   "metadata": {},
   "outputs": [
    {
     "data": {
      "text/plain": [
       "subject\n",
       "Business Finance       1870747\n",
       "Graphic Design         1063148\n",
       "Musical Instruments     846719\n",
       "Web Development        7980572\n",
       "Name: num_subscribers, dtype: int64"
      ]
     },
     "execution_count": 241,
     "metadata": {},
     "output_type": "execute_result"
    }
   ],
   "source": [
    "df.groupby('subject')['num_subscribers'].sum()"
   ]
  },
  {
   "cell_type": "code",
   "execution_count": 242,
   "id": "bf81384b",
   "metadata": {},
   "outputs": [
    {
     "data": {
      "text/plain": [
       "np.float64(3193.3711648112953)"
      ]
     },
     "execution_count": 242,
     "metadata": {},
     "output_type": "execute_result"
    }
   ],
   "source": [
    "df['num_subscribers'].mean()"
   ]
  },
  {
   "cell_type": "code",
   "execution_count": 243,
   "id": "2d7a3915",
   "metadata": {},
   "outputs": [
    {
     "data": {
      "text/plain": [
       "np.int64(268923)"
      ]
     },
     "execution_count": 243,
     "metadata": {},
     "output_type": "execute_result"
    }
   ],
   "source": [
    "df['num_subscribers'].max()"
   ]
  },
  {
   "cell_type": "code",
   "execution_count": 244,
   "id": "cd3135a1",
   "metadata": {},
   "outputs": [
    {
     "data": {
      "text/plain": [
       "np.int64(0)"
      ]
     },
     "execution_count": 244,
     "metadata": {},
     "output_type": "execute_result"
    }
   ],
   "source": [
    "df['num_subscribers'].min()"
   ]
  },
  {
   "cell_type": "code",
   "execution_count": 245,
   "id": "8bb3e494",
   "metadata": {},
   "outputs": [
    {
     "data": {
      "text/plain": [
       "np.int64(11761186)"
      ]
     },
     "execution_count": 245,
     "metadata": {},
     "output_type": "execute_result"
    }
   ],
   "source": [
    "df['num_subscribers'].sum()"
   ]
  },
  {
   "cell_type": "code",
   "execution_count": 246,
   "id": "9709d621",
   "metadata": {},
   "outputs": [
    {
     "data": {
      "text/plain": [
       "2832"
      ]
     },
     "execution_count": 246,
     "metadata": {},
     "output_type": "execute_result"
    }
   ],
   "source": [
    "df['num_subscribers'].idxmax()"
   ]
  },
  {
   "cell_type": "code",
   "execution_count": 247,
   "id": "71309dac",
   "metadata": {},
   "outputs": [
    {
     "data": {
      "text/plain": [
       "Unnamed: 0                                                          2832\n",
       "course_id                                                          41295\n",
       "course_title                        Learn HTML5 Programming From Scratch\n",
       "url                    https://www.udemy.com/learn-html5-programming-...\n",
       "is_paid                                                            False\n",
       "price                                                               Free\n",
       "num_subscribers                                                   268923\n",
       "num_reviews                                                         8629\n",
       "num_lectures                                                          45\n",
       "level                                                         All Levels\n",
       "content_duration                                              10.5 hours\n",
       "published_timestamp                                 2013-02-14T07:03:41Z\n",
       "subject                                                  Web Development\n",
       "clean_course_title                       Learn HTML5 Programming Scratch\n",
       "Name: 2832, dtype: object"
      ]
     },
     "execution_count": 247,
     "metadata": {},
     "output_type": "execute_result"
    }
   ],
   "source": [
    "df.iloc[2832]"
   ]
  },
  {
   "cell_type": "code",
   "execution_count": 248,
   "id": "307c1b8f",
   "metadata": {},
   "outputs": [],
   "source": [
    "#Level "
   ]
  },
  {
   "cell_type": "code",
   "execution_count": 249,
   "id": "001a31ef",
   "metadata": {},
   "outputs": [
    {
     "data": {
      "text/plain": [
       "level\n",
       "All Levels            1932\n",
       "Beginner Level        1271\n",
       "Intermediate Level     421\n",
       "Expert Level            58\n",
       "52                       1\n",
       "Name: count, dtype: int64"
      ]
     },
     "execution_count": 249,
     "metadata": {},
     "output_type": "execute_result"
    }
   ],
   "source": [
    "df['level'].value_counts()"
   ]
  },
  {
   "cell_type": "code",
   "execution_count": 250,
   "id": "4465aca1",
   "metadata": {},
   "outputs": [
    {
     "data": {
      "image/png": "[encoded data removed]",
      "text/plain": [
       "<Figure size 640x480 with 1 Axes>"
      ]
     },
     "metadata": {},
     "output_type": "display_data"
    }
   ],
   "source": [
    "levelShart = df['level'].value_counts().plot(kind='pie')\n",
    "plt.show()"
   ]
  },
  {
   "cell_type": "code",
   "execution_count": 251,
   "id": "8039cd6f",
   "metadata": {},
   "outputs": [
    {
     "data": {
      "image/png": "[encoded data removed]",
      "text/plain": [
       "<Figure size 640x480 with 1 Axes>"
      ]
     },
     "metadata": {},
     "output_type": "display_data"
    }
   ],
   "source": [
    "levelShart = df['level'].value_counts().plot(kind='barh')\n",
    "plt.show()"
   ]
  },
  {
   "cell_type": "code",
   "execution_count": 252,
   "id": "e8ef4806",
   "metadata": {},
   "outputs": [
    {
     "data": {
      "text/html": [
       "<div>\n",
       "<style scoped>\n",
       "    .dataframe tbody tr th:only-of-type {\n",
       "        vertical-align: middle;\n",
       "    }\n",
       "\n",
       "    .dataframe tbody tr th {\n",
       "        vertical-align: top;\n",
       "    }\n",
       "\n",
       "    .dataframe thead th {\n",
       "        text-align: right;\n",
       "    }\n",
       "</style>\n",
       "<table border=\"1\" class=\"dataframe\">\n",
       "  <thead>\n",
       "    <tr style=\"text-align: right;\">\n",
       "      <th></th>\n",
       "      <th>num_subscribers</th>\n",
       "      <th>level</th>\n",
       "    </tr>\n",
       "  </thead>\n",
       "  <tbody>\n",
       "    <tr>\n",
       "      <th>0</th>\n",
       "      <td>2147</td>\n",
       "      <td>All Levels</td>\n",
       "    </tr>\n",
       "    <tr>\n",
       "      <th>1</th>\n",
       "      <td>2792</td>\n",
       "      <td>All Levels</td>\n",
       "    </tr>\n",
       "    <tr>\n",
       "      <th>2</th>\n",
       "      <td>2174</td>\n",
       "      <td>Intermediate Level</td>\n",
       "    </tr>\n",
       "    <tr>\n",
       "      <th>3</th>\n",
       "      <td>2451</td>\n",
       "      <td>All Levels</td>\n",
       "    </tr>\n",
       "    <tr>\n",
       "      <th>4</th>\n",
       "      <td>1276</td>\n",
       "      <td>Intermediate Level</td>\n",
       "    </tr>\n",
       "    <tr>\n",
       "      <th>...</th>\n",
       "      <td>...</td>\n",
       "      <td>...</td>\n",
       "    </tr>\n",
       "    <tr>\n",
       "      <th>3678</th>\n",
       "      <td>1040</td>\n",
       "      <td>All Levels</td>\n",
       "    </tr>\n",
       "    <tr>\n",
       "      <th>3679</th>\n",
       "      <td>306</td>\n",
       "      <td>Beginner Level</td>\n",
       "    </tr>\n",
       "    <tr>\n",
       "      <th>3680</th>\n",
       "      <td>513</td>\n",
       "      <td>All Levels</td>\n",
       "    </tr>\n",
       "    <tr>\n",
       "      <th>3681</th>\n",
       "      <td>300</td>\n",
       "      <td>All Levels</td>\n",
       "    </tr>\n",
       "    <tr>\n",
       "      <th>3682</th>\n",
       "      <td>901</td>\n",
       "      <td>Beginner Level</td>\n",
       "    </tr>\n",
       "  </tbody>\n",
       "</table>\n",
       "<p>3683 rows × 2 columns</p>\n",
       "</div>"
      ],
      "text/plain": [
       "      num_subscribers               level\n",
       "0                2147          All Levels\n",
       "1                2792          All Levels\n",
       "2                2174  Intermediate Level\n",
       "3                2451          All Levels\n",
       "4                1276  Intermediate Level\n",
       "...               ...                 ...\n",
       "3678             1040          All Levels\n",
       "3679              306      Beginner Level\n",
       "3680              513          All Levels\n",
       "3681              300          All Levels\n",
       "3682              901      Beginner Level\n",
       "\n",
       "[3683 rows x 2 columns]"
      ]
     },
     "execution_count": 252,
     "metadata": {},
     "output_type": "execute_result"
    }
   ],
   "source": [
    "df[['num_subscribers','level']]"
   ]
  },
  {
   "cell_type": "code",
   "execution_count": 253,
   "id": "82b1dba6",
   "metadata": {},
   "outputs": [
    {
     "data": {
      "text/plain": [
       "level\n",
       "52                         30\n",
       "All Levels            6916112\n",
       "Beginner Level        4052843\n",
       "Expert Level            50196\n",
       "Intermediate Level     742005\n",
       "Name: num_subscribers, dtype: int64"
      ]
     },
     "execution_count": 253,
     "metadata": {},
     "output_type": "execute_result"
    }
   ],
   "source": [
    "df.groupby('level')['num_subscribers'].sum()"
   ]
  },
  {
   "cell_type": "code",
   "execution_count": 254,
   "id": "48c35886",
   "metadata": {},
   "outputs": [
    {
     "data": {
      "image/png": "[encoded data removed]",
      "text/plain": [
       "<Figure size 640x480 with 1 Axes>"
      ]
     },
     "metadata": {},
     "output_type": "display_data"
    }
   ],
   "source": [
    "df.groupby('level')['num_subscribers'].sum().plot(kind='pie')\n",
    "plt.show()"
   ]
  },
  {
   "cell_type": "code",
   "execution_count": 255,
   "id": "527f933b",
   "metadata": {},
   "outputs": [
    {
     "data": {
      "text/plain": [
       "subject              level             \n",
       "Business Finance     All Levels            699\n",
       "                     Beginner Level        341\n",
       "                     Intermediate Level    128\n",
       "                     Expert Level           31\n",
       "Graphic Design       All Levels            298\n",
       "                     Beginner Level        243\n",
       "                     Intermediate Level     57\n",
       "                     Expert Level            5\n",
       "Musical Instruments  Beginner Level        296\n",
       "                     All Levels            276\n",
       "                     Intermediate Level    101\n",
       "                     Expert Level            7\n",
       "                     52                      1\n",
       "Web Development      All Levels            659\n",
       "                     Beginner Level        391\n",
       "                     Intermediate Level    135\n",
       "                     Expert Level           15\n",
       "Name: count, dtype: int64"
      ]
     },
     "execution_count": 255,
     "metadata": {},
     "output_type": "execute_result"
    }
   ],
   "source": [
    "df.groupby('subject')['level'].value_counts()"
   ]
  },
  {
   "cell_type": "code",
   "execution_count": 256,
   "id": "926a1216",
   "metadata": {},
   "outputs": [
    {
     "data": {
      "image/png": "[encoded data removed]",
      "text/plain": [
       "<Figure size 640x480 with 1 Axes>"
      ]
     },
     "metadata": {},
     "output_type": "display_data"
    }
   ],
   "source": [
    "df.groupby('subject')['level'].value_counts().plot(kind=\"bar\")\n",
    "plt.show()"
   ]
  },
  {
   "cell_type": "code",
   "execution_count": 257,
   "id": "f72a4230",
   "metadata": {},
   "outputs": [
    {
     "data": {
      "image/png": "[encoded data removed]",
      "text/plain": [
       "<Figure size 2000x1000 with 1 Axes>"
      ]
     },
     "metadata": {},
     "output_type": "display_data"
    }
   ],
   "source": [
    "plt.figure(figsize=(20,10))\n",
    "sns.barplot(x='level', y='num_subscribers', data=df, hue='subject')\n",
    "plt.show()"
   ]
  },
  {
   "cell_type": "code",
   "execution_count": 258,
   "id": "c76a58a7",
   "metadata": {},
   "outputs": [],
   "source": [
    "#Lectuer"
   ]
  },
  {
   "cell_type": "code",
   "execution_count": 259,
   "id": "eaa32acf",
   "metadata": {},
   "outputs": [
    {
     "data": {
      "text/plain": [
       "Index(['Unnamed: 0', 'course_id', 'course_title', 'url', 'is_paid', 'price',\n",
       "       'num_subscribers', 'num_reviews', 'num_lectures', 'level',\n",
       "       'content_duration', 'published_timestamp', 'subject',\n",
       "       'clean_course_title'],\n",
       "      dtype='object')"
      ]
     },
     "execution_count": 259,
     "metadata": {},
     "output_type": "execute_result"
    }
   ],
   "source": [
    "df.columns"
   ]
  },
  {
   "cell_type": "code",
   "execution_count": 260,
   "id": "3be93998",
   "metadata": {},
   "outputs": [],
   "source": [
    "def fun_draw(y):\n",
    "    plt.figure(figsize=(20,10))\n",
    "    sns.barplot(x='level', y=y, data=df, hue='subject',errorbar=None)\n",
    "    plt.title('Plot of {} per level per subject'.format(y))\n",
    "    plt.show()\n",
    "    #pie chart\n",
    "    plt.figure(figsize=(6,6))\n",
    "    df.groupby('level')[y].sum().plot(kind='pie')\n",
    "    plt.title('Plot of {} per level'.format(y))\n",
    "    plt.show()"
   ]
  },
  {
   "cell_type": "code",
   "execution_count": 261,
   "id": "43a82f06",
   "metadata": {},
   "outputs": [
    {
     "data": {
      "image/png": "[encoded data removed]",
      "text/plain": [
       "<Figure size 2000x1000 with 1 Axes>"
      ]
     },
     "metadata": {},
     "output_type": "display_data"
    },
    {
     "data": {
      "image/png": "[encoded data removed]",
      "text/plain": [
       "<Figure size 600x600 with 1 Axes>"
      ]
     },
     "metadata": {},
     "output_type": "display_data"
    }
   ],
   "source": [
    "fun_draw('num_lectures')"
   ]
  },
  {
   "cell_type": "code",
   "execution_count": 262,
   "id": "ed132a24",
   "metadata": {},
   "outputs": [],
   "source": [
    "#Price"
   ]
  },
  {
   "cell_type": "code",
   "execution_count": 263,
   "id": "958fedc4",
   "metadata": {},
   "outputs": [
    {
     "data": {
      "text/plain": [
       "array(['200', '75', '45', '95', '150', '65', '195', '30', '20', '50',\n",
       "       '175', '140', '115', '190', '125', '60', '145', '105', '155',\n",
       "       '185', '180', '120', '25', '160', '40', 'Free', '100', '90', '35',\n",
       "       '80', '70', '55', '165', '130', '85', '170', '110', '135', 'TRUE'],\n",
       "      dtype=object)"
      ]
     },
     "execution_count": 263,
     "metadata": {},
     "output_type": "execute_result"
    }
   ],
   "source": [
    "df['price'].unique()"
   ]
  },
  {
   "cell_type": "markdown",
   "id": "8fa824aa",
   "metadata": {},
   "source": [
    "#"
   ]
  },
  {
   "cell_type": "code",
   "execution_count": 264,
   "id": "8199a79a",
   "metadata": {},
   "outputs": [],
   "source": [
    "df['price'] = df['price'].str.replace('Free|TRUE','0',regex=True)"
   ]
  },
  {
   "cell_type": "code",
   "execution_count": 265,
   "id": "ad827d95",
   "metadata": {},
   "outputs": [
    {
     "data": {
      "text/plain": [
       "array(['200', '75', '45', '95', '150', '65', '195', '30', '20', '50',\n",
       "       '175', '140', '115', '190', '125', '60', '145', '105', '155',\n",
       "       '185', '180', '120', '25', '160', '40', '0', '100', '90', '35',\n",
       "       '80', '70', '55', '165', '130', '85', '170', '110', '135'],\n",
       "      dtype=object)"
      ]
     },
     "execution_count": 265,
     "metadata": {},
     "output_type": "execute_result"
    }
   ],
   "source": [
    "df['price'].unique()"
   ]
  },
  {
   "cell_type": "code",
   "execution_count": 266,
   "id": "dad9599c",
   "metadata": {},
   "outputs": [],
   "source": [
    "#change type of price to float\n",
    "df['price'] = df['price'].astype(float)"
   ]
  },
  {
   "cell_type": "code",
   "execution_count": 267,
   "id": "a2bba34e",
   "metadata": {},
   "outputs": [
    {
     "data": {
      "text/plain": [
       "np.float64(65.99239750203638)"
      ]
     },
     "execution_count": 267,
     "metadata": {},
     "output_type": "execute_result"
    }
   ],
   "source": [
    "#get meanime course price\n",
    "df['price'].mean()"
   ]
  },
  {
   "cell_type": "code",
   "execution_count": 268,
   "id": "536d670e",
   "metadata": {},
   "outputs": [
    {
     "data": {
      "text/plain": [
       "np.float64(200.0)"
      ]
     },
     "execution_count": 268,
     "metadata": {},
     "output_type": "execute_result"
    }
   ],
   "source": [
    "#get max course price\n",
    "df['price'].max()"
   ]
  },
  {
   "cell_type": "code",
   "execution_count": 269,
   "id": "23568698",
   "metadata": {},
   "outputs": [
    {
     "data": {
      "text/plain": [
       "np.float64(0.0)"
      ]
     },
     "execution_count": 269,
     "metadata": {},
     "output_type": "execute_result"
    }
   ],
   "source": [
    "#get min course price\n",
    "df['price'].min()"
   ]
  },
  {
   "cell_type": "code",
   "execution_count": 270,
   "id": "f9e243f4",
   "metadata": {},
   "outputs": [
    {
     "data": {
      "text/plain": [
       "0"
      ]
     },
     "execution_count": 270,
     "metadata": {},
     "output_type": "execute_result"
    }
   ],
   "source": [
    "df['price'].idxmax()"
   ]
  },
  {
   "cell_type": "code",
   "execution_count": 271,
   "id": "770d0de8",
   "metadata": {},
   "outputs": [
    {
     "data": {
      "text/plain": [
       "Unnamed: 0                                                             0\n",
       "course_id                                                        1070968\n",
       "course_title                          Ultimate Investment Banking Course\n",
       "url                    https://www.udemy.com/ultimate-investment-bank...\n",
       "is_paid                                                             True\n",
       "price                                                              200.0\n",
       "num_subscribers                                                     2147\n",
       "num_reviews                                                           23\n",
       "num_lectures                                                          51\n",
       "level                                                         All Levels\n",
       "content_duration                                               1.5 hours\n",
       "published_timestamp                                 2017-01-18T20:58:58Z\n",
       "subject                                                 Business Finance\n",
       "clean_course_title                    Ultimate Investment Banking Course\n",
       "Name: 0, dtype: object"
      ]
     },
     "execution_count": 271,
     "metadata": {},
     "output_type": "execute_result"
    }
   ],
   "source": [
    "#get location\n",
    "df.iloc[0]"
   ]
  },
  {
   "cell_type": "code",
   "execution_count": 272,
   "id": "387b39e9",
   "metadata": {},
   "outputs": [
    {
     "data": {
      "text/plain": [
       "0       429400.0\n",
       "1       209400.0\n",
       "2        97830.0\n",
       "3       232845.0\n",
       "4       255200.0\n",
       "          ...   \n",
       "3678    104000.0\n",
       "3679      7650.0\n",
       "3680     20520.0\n",
       "3681     15000.0\n",
       "3682     40545.0\n",
       "Name: profit, Length: 3683, dtype: float64"
      ]
     },
     "execution_count": 272,
     "metadata": {},
     "output_type": "execute_result"
    }
   ],
   "source": [
    "#profit = price * subscribers\n",
    "\n",
    "df['profit'] = df['price'] * df['num_subscribers']\n",
    "df['profit']"
   ]
  },
  {
   "cell_type": "code",
   "execution_count": 273,
   "id": "e26c5eae",
   "metadata": {},
   "outputs": [
    {
     "data": {
      "text/plain": [
       "np.float64(24316800.0)"
      ]
     },
     "execution_count": 273,
     "metadata": {},
     "output_type": "execute_result"
    }
   ],
   "source": [
    "#get max profit\n",
    "df['profit'].max()"
   ]
  },
  {
   "cell_type": "code",
   "execution_count": 274,
   "id": "0aaa5bfc",
   "metadata": {},
   "outputs": [
    {
     "data": {
      "text/plain": [
       "3235"
      ]
     },
     "execution_count": 274,
     "metadata": {},
     "output_type": "execute_result"
    }
   ],
   "source": [
    "df['profit'].idxmax()"
   ]
  },
  {
   "cell_type": "code",
   "execution_count": 275,
   "id": "898ec672",
   "metadata": {},
   "outputs": [
    {
     "data": {
      "text/plain": [
       "Unnamed: 0                                                          3235\n",
       "course_id                                                         625204\n",
       "course_title                                  The Web Developer Bootcamp\n",
       "url                    https://www.udemy.com/the-web-developer-bootcamp/\n",
       "is_paid                                                             True\n",
       "price                                                              200.0\n",
       "num_subscribers                                                   121584\n",
       "num_reviews                                                        27445\n",
       "num_lectures                                                         342\n",
       "level                                                         All Levels\n",
       "content_duration                                                43 hours\n",
       "published_timestamp                                 2015-11-02T21:13:27Z\n",
       "subject                                                  Web Development\n",
       "clean_course_title                                Web Developer Bootcamp\n",
       "profit                                                        24316800.0\n",
       "Name: 3235, dtype: object"
      ]
     },
     "execution_count": 275,
     "metadata": {},
     "output_type": "execute_result"
    }
   ],
   "source": [
    "df.iloc[3235]"
   ]
  },
  {
   "cell_type": "markdown",
   "id": "f330fdfc",
   "metadata": {},
   "source": [
    "Is Paid"
   ]
  },
  {
   "cell_type": "code",
   "execution_count": 276,
   "id": "1623cba7",
   "metadata": {},
   "outputs": [
    {
     "data": {
      "text/html": [
       "<div>\n",
       "<style scoped>\n",
       "    .dataframe tbody tr th:only-of-type {\n",
       "        vertical-align: middle;\n",
       "    }\n",
       "\n",
       "    .dataframe tbody tr th {\n",
       "        vertical-align: top;\n",
       "    }\n",
       "\n",
       "    .dataframe thead th {\n",
       "        text-align: right;\n",
       "    }\n",
       "</style>\n",
       "<table border=\"1\" class=\"dataframe\">\n",
       "  <thead>\n",
       "    <tr style=\"text-align: right;\">\n",
       "      <th></th>\n",
       "      <th>Unnamed: 0</th>\n",
       "      <th>course_id</th>\n",
       "      <th>course_title</th>\n",
       "      <th>url</th>\n",
       "      <th>is_paid</th>\n",
       "      <th>price</th>\n",
       "      <th>num_subscribers</th>\n",
       "      <th>num_reviews</th>\n",
       "      <th>num_lectures</th>\n",
       "      <th>level</th>\n",
       "      <th>content_duration</th>\n",
       "      <th>published_timestamp</th>\n",
       "      <th>subject</th>\n",
       "      <th>clean_course_title</th>\n",
       "      <th>profit</th>\n",
       "    </tr>\n",
       "  </thead>\n",
       "  <tbody>\n",
       "    <tr>\n",
       "      <th>0</th>\n",
       "      <td>0</td>\n",
       "      <td>1070968</td>\n",
       "      <td>Ultimate Investment Banking Course</td>\n",
       "      <td>https://www.udemy.com/ultimate-investment-bank...</td>\n",
       "      <td>True</td>\n",
       "      <td>200.0</td>\n",
       "      <td>2147</td>\n",
       "      <td>23</td>\n",
       "      <td>51</td>\n",
       "      <td>All Levels</td>\n",
       "      <td>1.5 hours</td>\n",
       "      <td>2017-01-18T20:58:58Z</td>\n",
       "      <td>Business Finance</td>\n",
       "      <td>Ultimate Investment Banking Course</td>\n",
       "      <td>429400.0</td>\n",
       "    </tr>\n",
       "    <tr>\n",
       "      <th>1</th>\n",
       "      <td>1</td>\n",
       "      <td>1113822</td>\n",
       "      <td>Complete GST Course &amp; Certification - Grow You...</td>\n",
       "      <td>https://www.udemy.com/goods-and-services-tax/</td>\n",
       "      <td>True</td>\n",
       "      <td>75.0</td>\n",
       "      <td>2792</td>\n",
       "      <td>923</td>\n",
       "      <td>274</td>\n",
       "      <td>All Levels</td>\n",
       "      <td>39 hours</td>\n",
       "      <td>2017-03-09T16:34:20Z</td>\n",
       "      <td>Business Finance</td>\n",
       "      <td>Complete GST Course  Certification  Grow Practice</td>\n",
       "      <td>209400.0</td>\n",
       "    </tr>\n",
       "    <tr>\n",
       "      <th>2</th>\n",
       "      <td>2</td>\n",
       "      <td>1006314</td>\n",
       "      <td>Financial Modeling for Business Analysts and C...</td>\n",
       "      <td>https://www.udemy.com/financial-modeling-for-b...</td>\n",
       "      <td>True</td>\n",
       "      <td>45.0</td>\n",
       "      <td>2174</td>\n",
       "      <td>74</td>\n",
       "      <td>51</td>\n",
       "      <td>Intermediate Level</td>\n",
       "      <td>2.5 hours</td>\n",
       "      <td>2016-12-19T19:26:30Z</td>\n",
       "      <td>Business Finance</td>\n",
       "      <td>Financial Modeling Business Analysts Consultants</td>\n",
       "      <td>97830.0</td>\n",
       "    </tr>\n",
       "    <tr>\n",
       "      <th>3</th>\n",
       "      <td>3</td>\n",
       "      <td>1210588</td>\n",
       "      <td>Beginner to Pro - Financial Analysis in Excel ...</td>\n",
       "      <td>https://www.udemy.com/complete-excel-finance-c...</td>\n",
       "      <td>True</td>\n",
       "      <td>95.0</td>\n",
       "      <td>2451</td>\n",
       "      <td>11</td>\n",
       "      <td>36</td>\n",
       "      <td>All Levels</td>\n",
       "      <td>3 hours</td>\n",
       "      <td>2017-05-30T20:07:24Z</td>\n",
       "      <td>Business Finance</td>\n",
       "      <td>Beginner Pro  Financial Analysis Excel 2017</td>\n",
       "      <td>232845.0</td>\n",
       "    </tr>\n",
       "    <tr>\n",
       "      <th>4</th>\n",
       "      <td>4</td>\n",
       "      <td>1011058</td>\n",
       "      <td>How To Maximize Your Profits Trading Options</td>\n",
       "      <td>https://www.udemy.com/how-to-maximize-your-pro...</td>\n",
       "      <td>True</td>\n",
       "      <td>200.0</td>\n",
       "      <td>1276</td>\n",
       "      <td>45</td>\n",
       "      <td>26</td>\n",
       "      <td>Intermediate Level</td>\n",
       "      <td>2 hours</td>\n",
       "      <td>2016-12-13T14:57:18Z</td>\n",
       "      <td>Business Finance</td>\n",
       "      <td>Maximize Profits Trading Options</td>\n",
       "      <td>255200.0</td>\n",
       "    </tr>\n",
       "    <tr>\n",
       "      <th>...</th>\n",
       "      <td>...</td>\n",
       "      <td>...</td>\n",
       "      <td>...</td>\n",
       "      <td>...</td>\n",
       "      <td>...</td>\n",
       "      <td>...</td>\n",
       "      <td>...</td>\n",
       "      <td>...</td>\n",
       "      <td>...</td>\n",
       "      <td>...</td>\n",
       "      <td>...</td>\n",
       "      <td>...</td>\n",
       "      <td>...</td>\n",
       "      <td>...</td>\n",
       "      <td>...</td>\n",
       "    </tr>\n",
       "    <tr>\n",
       "      <th>3678</th>\n",
       "      <td>3678</td>\n",
       "      <td>775618</td>\n",
       "      <td>Learn jQuery from Scratch - Master of JavaScri...</td>\n",
       "      <td>https://www.udemy.com/easy-jquery-for-beginner...</td>\n",
       "      <td>True</td>\n",
       "      <td>100.0</td>\n",
       "      <td>1040</td>\n",
       "      <td>14</td>\n",
       "      <td>21</td>\n",
       "      <td>All Levels</td>\n",
       "      <td>2 hours</td>\n",
       "      <td>2016-06-14T17:36:46Z</td>\n",
       "      <td>Web Development</td>\n",
       "      <td>Learn jQuery Scratch  Master JavaScript library</td>\n",
       "      <td>104000.0</td>\n",
       "    </tr>\n",
       "    <tr>\n",
       "      <th>3679</th>\n",
       "      <td>3679</td>\n",
       "      <td>1088178</td>\n",
       "      <td>How To Design A WordPress Website With No Codi...</td>\n",
       "      <td>https://www.udemy.com/how-to-make-a-wordpress-...</td>\n",
       "      <td>True</td>\n",
       "      <td>25.0</td>\n",
       "      <td>306</td>\n",
       "      <td>3</td>\n",
       "      <td>42</td>\n",
       "      <td>Beginner Level</td>\n",
       "      <td>3.5 hours</td>\n",
       "      <td>2017-03-10T22:24:30Z</td>\n",
       "      <td>Web Development</td>\n",
       "      <td>Design WordPress Website Coding</td>\n",
       "      <td>7650.0</td>\n",
       "    </tr>\n",
       "    <tr>\n",
       "      <th>3680</th>\n",
       "      <td>3680</td>\n",
       "      <td>635248</td>\n",
       "      <td>Learn and Build using Polymer</td>\n",
       "      <td>https://www.udemy.com/learn-and-build-using-po...</td>\n",
       "      <td>True</td>\n",
       "      <td>40.0</td>\n",
       "      <td>513</td>\n",
       "      <td>169</td>\n",
       "      <td>48</td>\n",
       "      <td>All Levels</td>\n",
       "      <td>3.5 hours</td>\n",
       "      <td>2015-12-30T16:41:42Z</td>\n",
       "      <td>Web Development</td>\n",
       "      <td>Learn Build Polymer</td>\n",
       "      <td>20520.0</td>\n",
       "    </tr>\n",
       "    <tr>\n",
       "      <th>3681</th>\n",
       "      <td>3681</td>\n",
       "      <td>905096</td>\n",
       "      <td>CSS Animations: Create Amazing Effects on Your...</td>\n",
       "      <td>https://www.udemy.com/css-animations-create-am...</td>\n",
       "      <td>True</td>\n",
       "      <td>50.0</td>\n",
       "      <td>300</td>\n",
       "      <td>31</td>\n",
       "      <td>38</td>\n",
       "      <td>All Levels</td>\n",
       "      <td>3 hours</td>\n",
       "      <td>2016-08-11T19:06:15Z</td>\n",
       "      <td>Web Development</td>\n",
       "      <td>CSS Animations Create Amazing Effects Website</td>\n",
       "      <td>15000.0</td>\n",
       "    </tr>\n",
       "    <tr>\n",
       "      <th>3682</th>\n",
       "      <td>3682</td>\n",
       "      <td>297602</td>\n",
       "      <td>Using MODX CMS to Build Websites: A Beginner's...</td>\n",
       "      <td>https://www.udemy.com/using-modx-cms-to-build-...</td>\n",
       "      <td>True</td>\n",
       "      <td>45.0</td>\n",
       "      <td>901</td>\n",
       "      <td>36</td>\n",
       "      <td>20</td>\n",
       "      <td>Beginner Level</td>\n",
       "      <td>2 hours</td>\n",
       "      <td>2014-09-28T19:51:11Z</td>\n",
       "      <td>Web Development</td>\n",
       "      <td>MODX CMS Build Websites Beginners Guide</td>\n",
       "      <td>40545.0</td>\n",
       "    </tr>\n",
       "  </tbody>\n",
       "</table>\n",
       "<p>3683 rows × 15 columns</p>\n",
       "</div>"
      ],
      "text/plain": [
       "      Unnamed: 0  course_id  \\\n",
       "0              0    1070968   \n",
       "1              1    1113822   \n",
       "2              2    1006314   \n",
       "3              3    1210588   \n",
       "4              4    1011058   \n",
       "...          ...        ...   \n",
       "3678        3678     775618   \n",
       "3679        3679    1088178   \n",
       "3680        3680     635248   \n",
       "3681        3681     905096   \n",
       "3682        3682     297602   \n",
       "\n",
       "                                           course_title  \\\n",
       "0                    Ultimate Investment Banking Course   \n",
       "1     Complete GST Course & Certification - Grow You...   \n",
       "2     Financial Modeling for Business Analysts and C...   \n",
       "3     Beginner to Pro - Financial Analysis in Excel ...   \n",
       "4          How To Maximize Your Profits Trading Options   \n",
       "...                                                 ...   \n",
       "3678  Learn jQuery from Scratch - Master of JavaScri...   \n",
       "3679  How To Design A WordPress Website With No Codi...   \n",
       "3680                      Learn and Build using Polymer   \n",
       "3681  CSS Animations: Create Amazing Effects on Your...   \n",
       "3682  Using MODX CMS to Build Websites: A Beginner's...   \n",
       "\n",
       "                                                    url is_paid  price  \\\n",
       "0     https://www.udemy.com/ultimate-investment-bank...    True  200.0   \n",
       "1         https://www.udemy.com/goods-and-services-tax/    True   75.0   \n",
       "2     https://www.udemy.com/financial-modeling-for-b...    True   45.0   \n",
       "3     https://www.udemy.com/complete-excel-finance-c...    True   95.0   \n",
       "4     https://www.udemy.com/how-to-maximize-your-pro...    True  200.0   \n",
       "...                                                 ...     ...    ...   \n",
       "3678  https://www.udemy.com/easy-jquery-for-beginner...    True  100.0   \n",
       "3679  https://www.udemy.com/how-to-make-a-wordpress-...    True   25.0   \n",
       "3680  https://www.udemy.com/learn-and-build-using-po...    True   40.0   \n",
       "3681  https://www.udemy.com/css-animations-create-am...    True   50.0   \n",
       "3682  https://www.udemy.com/using-modx-cms-to-build-...    True   45.0   \n",
       "\n",
       "      num_subscribers  num_reviews  num_lectures               level  \\\n",
       "0                2147           23            51          All Levels   \n",
       "1                2792          923           274          All Levels   \n",
       "2                2174           74            51  Intermediate Level   \n",
       "3                2451           11            36          All Levels   \n",
       "4                1276           45            26  Intermediate Level   \n",
       "...               ...          ...           ...                 ...   \n",
       "3678             1040           14            21          All Levels   \n",
       "3679              306            3            42      Beginner Level   \n",
       "3680              513          169            48          All Levels   \n",
       "3681              300           31            38          All Levels   \n",
       "3682              901           36            20      Beginner Level   \n",
       "\n",
       "     content_duration   published_timestamp           subject  \\\n",
       "0           1.5 hours  2017-01-18T20:58:58Z  Business Finance   \n",
       "1            39 hours  2017-03-09T16:34:20Z  Business Finance   \n",
       "2           2.5 hours  2016-12-19T19:26:30Z  Business Finance   \n",
       "3             3 hours  2017-05-30T20:07:24Z  Business Finance   \n",
       "4             2 hours  2016-12-13T14:57:18Z  Business Finance   \n",
       "...               ...                   ...               ...   \n",
       "3678          2 hours  2016-06-14T17:36:46Z   Web Development   \n",
       "3679        3.5 hours  2017-03-10T22:24:30Z   Web Development   \n",
       "3680        3.5 hours  2015-12-30T16:41:42Z   Web Development   \n",
       "3681          3 hours  2016-08-11T19:06:15Z   Web Development   \n",
       "3682          2 hours  2014-09-28T19:51:11Z   Web Development   \n",
       "\n",
       "                                     clean_course_title    profit  \n",
       "0                    Ultimate Investment Banking Course  429400.0  \n",
       "1     Complete GST Course  Certification  Grow Practice  209400.0  \n",
       "2      Financial Modeling Business Analysts Consultants   97830.0  \n",
       "3           Beginner Pro  Financial Analysis Excel 2017  232845.0  \n",
       "4                      Maximize Profits Trading Options  255200.0  \n",
       "...                                                 ...       ...  \n",
       "3678    Learn jQuery Scratch  Master JavaScript library  104000.0  \n",
       "3679                    Design WordPress Website Coding    7650.0  \n",
       "3680                                Learn Build Polymer   20520.0  \n",
       "3681      CSS Animations Create Amazing Effects Website   15000.0  \n",
       "3682            MODX CMS Build Websites Beginners Guide   40545.0  \n",
       "\n",
       "[3683 rows x 15 columns]"
      ]
     },
     "execution_count": 276,
     "metadata": {},
     "output_type": "execute_result"
    }
   ],
   "source": [
    "df"
   ]
  },
  {
   "cell_type": "code",
   "execution_count": 277,
   "metadata": {},
   "outputs": [
    {
     "data": {
      "text/plain": [
       "is_paid\n",
       "True                                           2738\n",
       "TRUE                                            634\n",
       "False                                           264\n",
       "FALSE                                            46\n",
       "https://www.udemy.com/learnguitartoworship/       1\n",
       "Name: count, dtype: int64"
      ]
     },
     "execution_count": 277,
     "metadata": {},
     "output_type": "execute_result"
    }
   ],
   "source": [
    "df['is_paid'].value_counts()"
   ]
  },
  {
   "cell_type": "code",
   "execution_count": 278,
   "id": "029d79e1",
   "metadata": {},
   "outputs": [],
   "source": [
    "paid_dict ={'True':True,'TRUE':True,'False':False,'FALSE':False,'https://www.udemy.com/learnguitartoworship/':True}\n",
    "df['is_paid'] = df['is_paid'].map(paid_dict)"
   ]
  },
  {
   "cell_type": "code",
   "execution_count": 279,
   "id": "b8792def",
   "metadata": {},
   "outputs": [
    {
     "data": {
      "text/plain": [
       "is_paid\n",
       "True     3373\n",
       "False     310\n",
       "Name: count, dtype: int64"
      ]
     },
     "execution_count": 279,
     "metadata": {},
     "output_type": "execute_result"
    }
   ],
   "source": [
    "df['is_paid'].value_counts()"
   ]
  },
  {
   "cell_type": "code",
   "execution_count": 280,
   "id": "57b9a7f8",
   "metadata": {},
   "outputs": [
    {
     "data": {
      "image/png": "[encoded data removed]",
      "text/plain": [
       "<Figure size 640x480 with 1 Axes>"
      ]
     },
     "metadata": {},
     "output_type": "display_data"
    },
    {
     "data": {
      "image/png": "[encoded data removed]",
      "text/plain": [
       "<Figure size 700x700 with 1 Axes>"
      ]
     },
     "metadata": {},
     "output_type": "display_data"
    }
   ],
   "source": [
    "df['is_paid'].value_counts().plot(kind='pie')\n",
    "plt.title('Paid Courses')\n",
    "plt.show()\n",
    "\n",
    "plt.figure(figsize=(7,7))\n",
    "sns.countplot(x=df['is_paid'])\n",
    "plt.show()"
   ]
  },
  {
   "cell_type": "code",
   "execution_count": 281,
   "id": "d67981ab",
   "metadata": {},
   "outputs": [
    {
     "data": {
      "text/plain": [
       "is_paid\n",
       "True     3373\n",
       "False     310\n",
       "Name: count, dtype: int64"
      ]
     },
     "execution_count": 281,
     "metadata": {},
     "output_type": "execute_result"
    }
   ],
   "source": [
    "df['is_paid'].value_counts()"
   ]
  },
  {
   "cell_type": "code",
   "execution_count": 282,
   "id": "d060f073",
   "metadata": {},
   "outputs": [
    {
     "data": {
      "text/plain": [
       "array(['Business Finance', 'Graphic Design', 'Musical Instruments',\n",
       "       'Web Development'], dtype=object)"
      ]
     },
     "execution_count": 282,
     "metadata": {},
     "output_type": "execute_result"
    }
   ],
   "source": [
    "df['subject'].unique()"
   ]
  },
  {
   "cell_type": "code",
   "execution_count": 283,
   "id": "1ff6bfb7",
   "metadata": {},
   "outputs": [
    {
     "data": {
      "text/plain": [
       "is_paid  subject            \n",
       "False    Web Development         133\n",
       "         Business Finance         96\n",
       "         Musical Instruments      46\n",
       "         Graphic Design           35\n",
       "True     Business Finance       1103\n",
       "         Web Development        1067\n",
       "         Musical Instruments     635\n",
       "         Graphic Design          568\n",
       "Name: count, dtype: int64"
      ]
     },
     "execution_count": 283,
     "metadata": {},
     "output_type": "execute_result"
    }
   ],
   "source": [
    "#get paid course per subject\n",
    "df.groupby('is_paid')['subject'].value_counts()"
   ]
  },
  {
   "cell_type": "code",
   "execution_count": 284,
   "id": "bf16d18f",
   "metadata": {},
   "outputs": [
    {
     "data": {
      "image/png": "[encoded data removed]",
      "text/plain": [
       "<Figure size 640x480 with 1 Axes>"
      ]
     },
     "metadata": {},
     "output_type": "display_data"
    }
   ],
   "source": [
    "df.groupby('is_paid')['subject'].value_counts().plot(kind=\"bar\")\n",
    "plt.show()"
   ]
  },
  {
   "cell_type": "code",
   "execution_count": 285,
   "id": "179a76ab",
   "metadata": {},
   "outputs": [
    {
     "data": {
      "text/plain": [
       "0       34\n",
       "1       59\n",
       "2       56\n",
       "3       50\n",
       "4       44\n",
       "        ..\n",
       "3678    56\n",
       "3679    55\n",
       "3680    29\n",
       "3681    54\n",
       "3682    52\n",
       "Name: course_title, Length: 3683, dtype: int64"
      ]
     },
     "execution_count": 285,
     "metadata": {},
     "output_type": "execute_result"
    }
   ],
   "source": [
    "df['course_title'].str.len()"
   ]
  },
  {
   "cell_type": "code",
   "execution_count": 286,
   "id": "f2746bda",
   "metadata": {},
   "outputs": [
    {
     "data": {
      "text/html": [
       "<div>\n",
       "<style scoped>\n",
       "    .dataframe tbody tr th:only-of-type {\n",
       "        vertical-align: middle;\n",
       "    }\n",
       "\n",
       "    .dataframe tbody tr th {\n",
       "        vertical-align: top;\n",
       "    }\n",
       "\n",
       "    .dataframe thead th {\n",
       "        text-align: right;\n",
       "    }\n",
       "</style>\n",
       "<table border=\"1\" class=\"dataframe\">\n",
       "  <thead>\n",
       "    <tr style=\"text-align: right;\">\n",
       "      <th></th>\n",
       "      <th>Unnamed: 0</th>\n",
       "      <th>course_id</th>\n",
       "      <th>course_title</th>\n",
       "      <th>url</th>\n",
       "      <th>is_paid</th>\n",
       "      <th>price</th>\n",
       "      <th>num_subscribers</th>\n",
       "      <th>num_reviews</th>\n",
       "      <th>num_lectures</th>\n",
       "      <th>level</th>\n",
       "      <th>content_duration</th>\n",
       "      <th>published_timestamp</th>\n",
       "      <th>subject</th>\n",
       "      <th>clean_course_title</th>\n",
       "      <th>profit</th>\n",
       "      <th>course_title_len</th>\n",
       "    </tr>\n",
       "  </thead>\n",
       "  <tbody>\n",
       "    <tr>\n",
       "      <th>0</th>\n",
       "      <td>0</td>\n",
       "      <td>1070968</td>\n",
       "      <td>Ultimate Investment Banking Course</td>\n",
       "      <td>https://www.udemy.com/ultimate-investment-bank...</td>\n",
       "      <td>True</td>\n",
       "      <td>200.0</td>\n",
       "      <td>2147</td>\n",
       "      <td>23</td>\n",
       "      <td>51</td>\n",
       "      <td>All Levels</td>\n",
       "      <td>1.5 hours</td>\n",
       "      <td>2017-01-18T20:58:58Z</td>\n",
       "      <td>Business Finance</td>\n",
       "      <td>Ultimate Investment Banking Course</td>\n",
       "      <td>429400.0</td>\n",
       "      <td>34</td>\n",
       "    </tr>\n",
       "    <tr>\n",
       "      <th>1</th>\n",
       "      <td>1</td>\n",
       "      <td>1113822</td>\n",
       "      <td>Complete GST Course &amp; Certification - Grow You...</td>\n",
       "      <td>https://www.udemy.com/goods-and-services-tax/</td>\n",
       "      <td>True</td>\n",
       "      <td>75.0</td>\n",
       "      <td>2792</td>\n",
       "      <td>923</td>\n",
       "      <td>274</td>\n",
       "      <td>All Levels</td>\n",
       "      <td>39 hours</td>\n",
       "      <td>2017-03-09T16:34:20Z</td>\n",
       "      <td>Business Finance</td>\n",
       "      <td>Complete GST Course  Certification  Grow Practice</td>\n",
       "      <td>209400.0</td>\n",
       "      <td>59</td>\n",
       "    </tr>\n",
       "    <tr>\n",
       "      <th>2</th>\n",
       "      <td>2</td>\n",
       "      <td>1006314</td>\n",
       "      <td>Financial Modeling for Business Analysts and C...</td>\n",
       "      <td>https://www.udemy.com/financial-modeling-for-b...</td>\n",
       "      <td>True</td>\n",
       "      <td>45.0</td>\n",
       "      <td>2174</td>\n",
       "      <td>74</td>\n",
       "      <td>51</td>\n",
       "      <td>Intermediate Level</td>\n",
       "      <td>2.5 hours</td>\n",
       "      <td>2016-12-19T19:26:30Z</td>\n",
       "      <td>Business Finance</td>\n",
       "      <td>Financial Modeling Business Analysts Consultants</td>\n",
       "      <td>97830.0</td>\n",
       "      <td>56</td>\n",
       "    </tr>\n",
       "    <tr>\n",
       "      <th>3</th>\n",
       "      <td>3</td>\n",
       "      <td>1210588</td>\n",
       "      <td>Beginner to Pro - Financial Analysis in Excel ...</td>\n",
       "      <td>https://www.udemy.com/complete-excel-finance-c...</td>\n",
       "      <td>True</td>\n",
       "      <td>95.0</td>\n",
       "      <td>2451</td>\n",
       "      <td>11</td>\n",
       "      <td>36</td>\n",
       "      <td>All Levels</td>\n",
       "      <td>3 hours</td>\n",
       "      <td>2017-05-30T20:07:24Z</td>\n",
       "      <td>Business Finance</td>\n",
       "      <td>Beginner Pro  Financial Analysis Excel 2017</td>\n",
       "      <td>232845.0</td>\n",
       "      <td>50</td>\n",
       "    </tr>\n",
       "    <tr>\n",
       "      <th>4</th>\n",
       "      <td>4</td>\n",
       "      <td>1011058</td>\n",
       "      <td>How To Maximize Your Profits Trading Options</td>\n",
       "      <td>https://www.udemy.com/how-to-maximize-your-pro...</td>\n",
       "      <td>True</td>\n",
       "      <td>200.0</td>\n",
       "      <td>1276</td>\n",
       "      <td>45</td>\n",
       "      <td>26</td>\n",
       "      <td>Intermediate Level</td>\n",
       "      <td>2 hours</td>\n",
       "      <td>2016-12-13T14:57:18Z</td>\n",
       "      <td>Business Finance</td>\n",
       "      <td>Maximize Profits Trading Options</td>\n",
       "      <td>255200.0</td>\n",
       "      <td>44</td>\n",
       "    </tr>\n",
       "    <tr>\n",
       "      <th>...</th>\n",
       "      <td>...</td>\n",
       "      <td>...</td>\n",
       "      <td>...</td>\n",
       "      <td>...</td>\n",
       "      <td>...</td>\n",
       "      <td>...</td>\n",
       "      <td>...</td>\n",
       "      <td>...</td>\n",
       "      <td>...</td>\n",
       "      <td>...</td>\n",
       "      <td>...</td>\n",
       "      <td>...</td>\n",
       "      <td>...</td>\n",
       "      <td>...</td>\n",
       "      <td>...</td>\n",
       "      <td>...</td>\n",
       "    </tr>\n",
       "    <tr>\n",
       "      <th>3678</th>\n",
       "      <td>3678</td>\n",
       "      <td>775618</td>\n",
       "      <td>Learn jQuery from Scratch - Master of JavaScri...</td>\n",
       "      <td>https://www.udemy.com/easy-jquery-for-beginner...</td>\n",
       "      <td>True</td>\n",
       "      <td>100.0</td>\n",
       "      <td>1040</td>\n",
       "      <td>14</td>\n",
       "      <td>21</td>\n",
       "      <td>All Levels</td>\n",
       "      <td>2 hours</td>\n",
       "      <td>2016-06-14T17:36:46Z</td>\n",
       "      <td>Web Development</td>\n",
       "      <td>Learn jQuery Scratch  Master JavaScript library</td>\n",
       "      <td>104000.0</td>\n",
       "      <td>56</td>\n",
       "    </tr>\n",
       "    <tr>\n",
       "      <th>3679</th>\n",
       "      <td>3679</td>\n",
       "      <td>1088178</td>\n",
       "      <td>How To Design A WordPress Website With No Codi...</td>\n",
       "      <td>https://www.udemy.com/how-to-make-a-wordpress-...</td>\n",
       "      <td>True</td>\n",
       "      <td>25.0</td>\n",
       "      <td>306</td>\n",
       "      <td>3</td>\n",
       "      <td>42</td>\n",
       "      <td>Beginner Level</td>\n",
       "      <td>3.5 hours</td>\n",
       "      <td>2017-03-10T22:24:30Z</td>\n",
       "      <td>Web Development</td>\n",
       "      <td>Design WordPress Website Coding</td>\n",
       "      <td>7650.0</td>\n",
       "      <td>55</td>\n",
       "    </tr>\n",
       "    <tr>\n",
       "      <th>3680</th>\n",
       "      <td>3680</td>\n",
       "      <td>635248</td>\n",
       "      <td>Learn and Build using Polymer</td>\n",
       "      <td>https://www.udemy.com/learn-and-build-using-po...</td>\n",
       "      <td>True</td>\n",
       "      <td>40.0</td>\n",
       "      <td>513</td>\n",
       "      <td>169</td>\n",
       "      <td>48</td>\n",
       "      <td>All Levels</td>\n",
       "      <td>3.5 hours</td>\n",
       "      <td>2015-12-30T16:41:42Z</td>\n",
       "      <td>Web Development</td>\n",
       "      <td>Learn Build Polymer</td>\n",
       "      <td>20520.0</td>\n",
       "      <td>29</td>\n",
       "    </tr>\n",
       "    <tr>\n",
       "      <th>3681</th>\n",
       "      <td>3681</td>\n",
       "      <td>905096</td>\n",
       "      <td>CSS Animations: Create Amazing Effects on Your...</td>\n",
       "      <td>https://www.udemy.com/css-animations-create-am...</td>\n",
       "      <td>True</td>\n",
       "      <td>50.0</td>\n",
       "      <td>300</td>\n",
       "      <td>31</td>\n",
       "      <td>38</td>\n",
       "      <td>All Levels</td>\n",
       "      <td>3 hours</td>\n",
       "      <td>2016-08-11T19:06:15Z</td>\n",
       "      <td>Web Development</td>\n",
       "      <td>CSS Animations Create Amazing Effects Website</td>\n",
       "      <td>15000.0</td>\n",
       "      <td>54</td>\n",
       "    </tr>\n",
       "    <tr>\n",
       "      <th>3682</th>\n",
       "      <td>3682</td>\n",
       "      <td>297602</td>\n",
       "      <td>Using MODX CMS to Build Websites: A Beginner's...</td>\n",
       "      <td>https://www.udemy.com/using-modx-cms-to-build-...</td>\n",
       "      <td>True</td>\n",
       "      <td>45.0</td>\n",
       "      <td>901</td>\n",
       "      <td>36</td>\n",
       "      <td>20</td>\n",
       "      <td>Beginner Level</td>\n",
       "      <td>2 hours</td>\n",
       "      <td>2014-09-28T19:51:11Z</td>\n",
       "      <td>Web Development</td>\n",
       "      <td>MODX CMS Build Websites Beginners Guide</td>\n",
       "      <td>40545.0</td>\n",
       "      <td>52</td>\n",
       "    </tr>\n",
       "  </tbody>\n",
       "</table>\n",
       "<p>3683 rows × 16 columns</p>\n",
       "</div>"
      ],
      "text/plain": [
       "      Unnamed: 0  course_id  \\\n",
       "0              0    1070968   \n",
       "1              1    1113822   \n",
       "2              2    1006314   \n",
       "3              3    1210588   \n",
       "4              4    1011058   \n",
       "...          ...        ...   \n",
       "3678        3678     775618   \n",
       "3679        3679    1088178   \n",
       "3680        3680     635248   \n",
       "3681        3681     905096   \n",
       "3682        3682     297602   \n",
       "\n",
       "                                           course_title  \\\n",
       "0                    Ultimate Investment Banking Course   \n",
       "1     Complete GST Course & Certification - Grow You...   \n",
       "2     Financial Modeling for Business Analysts and C...   \n",
       "3     Beginner to Pro - Financial Analysis in Excel ...   \n",
       "4          How To Maximize Your Profits Trading Options   \n",
       "...                                                 ...   \n",
       "3678  Learn jQuery from Scratch - Master of JavaScri...   \n",
       "3679  How To Design A WordPress Website With No Codi...   \n",
       "3680                      Learn and Build using Polymer   \n",
       "3681  CSS Animations: Create Amazing Effects on Your...   \n",
       "3682  Using MODX CMS to Build Websites: A Beginner's...   \n",
       "\n",
       "                                                    url  is_paid  price  \\\n",
       "0     https://www.udemy.com/ultimate-investment-bank...     True  200.0   \n",
       "1         https://www.udemy.com/goods-and-services-tax/     True   75.0   \n",
       "2     https://www.udemy.com/financial-modeling-for-b...     True   45.0   \n",
       "3     https://www.udemy.com/complete-excel-finance-c...     True   95.0   \n",
       "4     https://www.udemy.com/how-to-maximize-your-pro...     True  200.0   \n",
       "...                                                 ...      ...    ...   \n",
       "3678  https://www.udemy.com/easy-jquery-for-beginner...     True  100.0   \n",
       "3679  https://www.udemy.com/how-to-make-a-wordpress-...     True   25.0   \n",
       "3680  https://www.udemy.com/learn-and-build-using-po...     True   40.0   \n",
       "3681  https://www.udemy.com/css-animations-create-am...     True   50.0   \n",
       "3682  https://www.udemy.com/using-modx-cms-to-build-...     True   45.0   \n",
       "\n",
       "      num_subscribers  num_reviews  num_lectures               level  \\\n",
       "0                2147           23            51          All Levels   \n",
       "1                2792          923           274          All Levels   \n",
       "2                2174           74            51  Intermediate Level   \n",
       "3                2451           11            36          All Levels   \n",
       "4                1276           45            26  Intermediate Level   \n",
       "...               ...          ...           ...                 ...   \n",
       "3678             1040           14            21          All Levels   \n",
       "3679              306            3            42      Beginner Level   \n",
       "3680              513          169            48          All Levels   \n",
       "3681              300           31            38          All Levels   \n",
       "3682              901           36            20      Beginner Level   \n",
       "\n",
       "     content_duration   published_timestamp           subject  \\\n",
       "0           1.5 hours  2017-01-18T20:58:58Z  Business Finance   \n",
       "1            39 hours  2017-03-09T16:34:20Z  Business Finance   \n",
       "2           2.5 hours  2016-12-19T19:26:30Z  Business Finance   \n",
       "3             3 hours  2017-05-30T20:07:24Z  Business Finance   \n",
       "4             2 hours  2016-12-13T14:57:18Z  Business Finance   \n",
       "...               ...                   ...               ...   \n",
       "3678          2 hours  2016-06-14T17:36:46Z   Web Development   \n",
       "3679        3.5 hours  2017-03-10T22:24:30Z   Web Development   \n",
       "3680        3.5 hours  2015-12-30T16:41:42Z   Web Development   \n",
       "3681          3 hours  2016-08-11T19:06:15Z   Web Development   \n",
       "3682          2 hours  2014-09-28T19:51:11Z   Web Development   \n",
       "\n",
       "                                     clean_course_title    profit  \\\n",
       "0                    Ultimate Investment Banking Course  429400.0   \n",
       "1     Complete GST Course  Certification  Grow Practice  209400.0   \n",
       "2      Financial Modeling Business Analysts Consultants   97830.0   \n",
       "3           Beginner Pro  Financial Analysis Excel 2017  232845.0   \n",
       "4                      Maximize Profits Trading Options  255200.0   \n",
       "...                                                 ...       ...   \n",
       "3678    Learn jQuery Scratch  Master JavaScript library  104000.0   \n",
       "3679                    Design WordPress Website Coding    7650.0   \n",
       "3680                                Learn Build Polymer   20520.0   \n",
       "3681      CSS Animations Create Amazing Effects Website   15000.0   \n",
       "3682            MODX CMS Build Websites Beginners Guide   40545.0   \n",
       "\n",
       "      course_title_len  \n",
       "0                   34  \n",
       "1                   59  \n",
       "2                   56  \n",
       "3                   50  \n",
       "4                   44  \n",
       "...                ...  \n",
       "3678                56  \n",
       "3679                55  \n",
       "3680                29  \n",
       "3681                54  \n",
       "3682                52  \n",
       "\n",
       "[3683 rows x 16 columns]"
      ]
     },
     "execution_count": 286,
     "metadata": {},
     "output_type": "execute_result"
    }
   ],
   "source": [
    "df['course_title_len'] = df['course_title'].str.len()\n",
    "df"
   ]
  },
  {
   "cell_type": "code",
   "execution_count": 287,
   "id": "db9d487b",
   "metadata": {},
   "outputs": [
    {
     "data": {
      "text/plain": [
       "np.int64(243)"
      ]
     },
     "execution_count": 287,
     "metadata": {},
     "output_type": "execute_result"
    }
   ],
   "source": [
    "df['course_title_len'].max()"
   ]
  },
  {
   "cell_type": "code",
   "execution_count": 288,
   "id": "66d6d229",
   "metadata": {},
   "outputs": [
    {
     "data": {
      "text/plain": [
       "2191"
      ]
     },
     "execution_count": 288,
     "metadata": {},
     "output_type": "execute_result"
    }
   ],
   "source": [
    "#get id of max corse\n",
    "df['course_title_len'].idxmax()"
   ]
  },
  {
   "cell_type": "code",
   "execution_count": 289,
   "id": "e23bec2e",
   "metadata": {},
   "outputs": [
    {
     "data": {
      "text/plain": [
       "Unnamed: 0                                                          2191\n",
       "course_id                                                         286898\n",
       "course_title           Aprende a tocar el Acordeón 'de oído y con téc...\n",
       "url                    https://www.udemy.com/aprende-los-secretos-de-...\n",
       "is_paid                                                             True\n",
       "price                                                               75.0\n",
       "num_subscribers                                                      158\n",
       "num_reviews                                                           17\n",
       "num_lectures                                                          59\n",
       "level                                                         All Levels\n",
       "content_duration                                               2.5 hours\n",
       "published_timestamp                                 2014-07-28T13:55:43Z\n",
       "subject                                              Musical Instruments\n",
       "clean_course_title     Aprende tocar el Acorden de odo con tcnicahttp...\n",
       "profit                                                           11850.0\n",
       "course_title_len                                                     243\n",
       "Name: 2191, dtype: object"
      ]
     },
     "execution_count": 289,
     "metadata": {},
     "output_type": "execute_result"
    }
   ],
   "source": [
    "#get location of max by id course \n",
    "df.iloc[df['course_title_len'].idxmax()]"
   ]
  },
  {
   "cell_type": "code",
   "execution_count": 290,
   "id": "f7731419",
   "metadata": {},
   "outputs": [
    {
     "data": {
      "text/html": [
       "<div>\n",
       "<style scoped>\n",
       "    .dataframe tbody tr th:only-of-type {\n",
       "        vertical-align: middle;\n",
       "    }\n",
       "\n",
       "    .dataframe tbody tr th {\n",
       "        vertical-align: top;\n",
       "    }\n",
       "\n",
       "    .dataframe thead th {\n",
       "        text-align: right;\n",
       "    }\n",
       "</style>\n",
       "<table border=\"1\" class=\"dataframe\">\n",
       "  <thead>\n",
       "    <tr style=\"text-align: right;\">\n",
       "      <th></th>\n",
       "      <th>Unnamed: 0</th>\n",
       "      <th>course_id</th>\n",
       "      <th>course_title</th>\n",
       "      <th>url</th>\n",
       "      <th>is_paid</th>\n",
       "      <th>price</th>\n",
       "      <th>num_subscribers</th>\n",
       "      <th>num_reviews</th>\n",
       "      <th>num_lectures</th>\n",
       "      <th>level</th>\n",
       "      <th>content_duration</th>\n",
       "      <th>published_timestamp</th>\n",
       "      <th>subject</th>\n",
       "      <th>clean_course_title</th>\n",
       "      <th>profit</th>\n",
       "      <th>course_title_len</th>\n",
       "    </tr>\n",
       "  </thead>\n",
       "  <tbody>\n",
       "    <tr>\n",
       "      <th>0</th>\n",
       "      <td>0</td>\n",
       "      <td>1070968</td>\n",
       "      <td>Ultimate Investment Banking Course</td>\n",
       "      <td>https://www.udemy.com/ultimate-investment-bank...</td>\n",
       "      <td>True</td>\n",
       "      <td>200.0</td>\n",
       "      <td>2147</td>\n",
       "      <td>23</td>\n",
       "      <td>51</td>\n",
       "      <td>All Levels</td>\n",
       "      <td>1.5 hours</td>\n",
       "      <td>2017-01-18T20:58:58Z</td>\n",
       "      <td>Business Finance</td>\n",
       "      <td>Ultimate Investment Banking Course</td>\n",
       "      <td>429400.0</td>\n",
       "      <td>34</td>\n",
       "    </tr>\n",
       "    <tr>\n",
       "      <th>1</th>\n",
       "      <td>1</td>\n",
       "      <td>1113822</td>\n",
       "      <td>Complete GST Course &amp; Certification - Grow You...</td>\n",
       "      <td>https://www.udemy.com/goods-and-services-tax/</td>\n",
       "      <td>True</td>\n",
       "      <td>75.0</td>\n",
       "      <td>2792</td>\n",
       "      <td>923</td>\n",
       "      <td>274</td>\n",
       "      <td>All Levels</td>\n",
       "      <td>39 hours</td>\n",
       "      <td>2017-03-09T16:34:20Z</td>\n",
       "      <td>Business Finance</td>\n",
       "      <td>Complete GST Course  Certification  Grow Practice</td>\n",
       "      <td>209400.0</td>\n",
       "      <td>59</td>\n",
       "    </tr>\n",
       "    <tr>\n",
       "      <th>2</th>\n",
       "      <td>2</td>\n",
       "      <td>1006314</td>\n",
       "      <td>Financial Modeling for Business Analysts and C...</td>\n",
       "      <td>https://www.udemy.com/financial-modeling-for-b...</td>\n",
       "      <td>True</td>\n",
       "      <td>45.0</td>\n",
       "      <td>2174</td>\n",
       "      <td>74</td>\n",
       "      <td>51</td>\n",
       "      <td>Intermediate Level</td>\n",
       "      <td>2.5 hours</td>\n",
       "      <td>2016-12-19T19:26:30Z</td>\n",
       "      <td>Business Finance</td>\n",
       "      <td>Financial Modeling Business Analysts Consultants</td>\n",
       "      <td>97830.0</td>\n",
       "      <td>56</td>\n",
       "    </tr>\n",
       "    <tr>\n",
       "      <th>3</th>\n",
       "      <td>3</td>\n",
       "      <td>1210588</td>\n",
       "      <td>Beginner to Pro - Financial Analysis in Excel ...</td>\n",
       "      <td>https://www.udemy.com/complete-excel-finance-c...</td>\n",
       "      <td>True</td>\n",
       "      <td>95.0</td>\n",
       "      <td>2451</td>\n",
       "      <td>11</td>\n",
       "      <td>36</td>\n",
       "      <td>All Levels</td>\n",
       "      <td>3 hours</td>\n",
       "      <td>2017-05-30T20:07:24Z</td>\n",
       "      <td>Business Finance</td>\n",
       "      <td>Beginner Pro  Financial Analysis Excel 2017</td>\n",
       "      <td>232845.0</td>\n",
       "      <td>50</td>\n",
       "    </tr>\n",
       "    <tr>\n",
       "      <th>4</th>\n",
       "      <td>4</td>\n",
       "      <td>1011058</td>\n",
       "      <td>How To Maximize Your Profits Trading Options</td>\n",
       "      <td>https://www.udemy.com/how-to-maximize-your-pro...</td>\n",
       "      <td>True</td>\n",
       "      <td>200.0</td>\n",
       "      <td>1276</td>\n",
       "      <td>45</td>\n",
       "      <td>26</td>\n",
       "      <td>Intermediate Level</td>\n",
       "      <td>2 hours</td>\n",
       "      <td>2016-12-13T14:57:18Z</td>\n",
       "      <td>Business Finance</td>\n",
       "      <td>Maximize Profits Trading Options</td>\n",
       "      <td>255200.0</td>\n",
       "      <td>44</td>\n",
       "    </tr>\n",
       "    <tr>\n",
       "      <th>...</th>\n",
       "      <td>...</td>\n",
       "      <td>...</td>\n",
       "      <td>...</td>\n",
       "      <td>...</td>\n",
       "      <td>...</td>\n",
       "      <td>...</td>\n",
       "      <td>...</td>\n",
       "      <td>...</td>\n",
       "      <td>...</td>\n",
       "      <td>...</td>\n",
       "      <td>...</td>\n",
       "      <td>...</td>\n",
       "      <td>...</td>\n",
       "      <td>...</td>\n",
       "      <td>...</td>\n",
       "      <td>...</td>\n",
       "    </tr>\n",
       "    <tr>\n",
       "      <th>3678</th>\n",
       "      <td>3678</td>\n",
       "      <td>775618</td>\n",
       "      <td>Learn jQuery from Scratch - Master of JavaScri...</td>\n",
       "      <td>https://www.udemy.com/easy-jquery-for-beginner...</td>\n",
       "      <td>True</td>\n",
       "      <td>100.0</td>\n",
       "      <td>1040</td>\n",
       "      <td>14</td>\n",
       "      <td>21</td>\n",
       "      <td>All Levels</td>\n",
       "      <td>2 hours</td>\n",
       "      <td>2016-06-14T17:36:46Z</td>\n",
       "      <td>Web Development</td>\n",
       "      <td>Learn jQuery Scratch  Master JavaScript library</td>\n",
       "      <td>104000.0</td>\n",
       "      <td>56</td>\n",
       "    </tr>\n",
       "    <tr>\n",
       "      <th>3679</th>\n",
       "      <td>3679</td>\n",
       "      <td>1088178</td>\n",
       "      <td>How To Design A WordPress Website With No Codi...</td>\n",
       "      <td>https://www.udemy.com/how-to-make-a-wordpress-...</td>\n",
       "      <td>True</td>\n",
       "      <td>25.0</td>\n",
       "      <td>306</td>\n",
       "      <td>3</td>\n",
       "      <td>42</td>\n",
       "      <td>Beginner Level</td>\n",
       "      <td>3.5 hours</td>\n",
       "      <td>2017-03-10T22:24:30Z</td>\n",
       "      <td>Web Development</td>\n",
       "      <td>Design WordPress Website Coding</td>\n",
       "      <td>7650.0</td>\n",
       "      <td>55</td>\n",
       "    </tr>\n",
       "    <tr>\n",
       "      <th>3680</th>\n",
       "      <td>3680</td>\n",
       "      <td>635248</td>\n",
       "      <td>Learn and Build using Polymer</td>\n",
       "      <td>https://www.udemy.com/learn-and-build-using-po...</td>\n",
       "      <td>True</td>\n",
       "      <td>40.0</td>\n",
       "      <td>513</td>\n",
       "      <td>169</td>\n",
       "      <td>48</td>\n",
       "      <td>All Levels</td>\n",
       "      <td>3.5 hours</td>\n",
       "      <td>2015-12-30T16:41:42Z</td>\n",
       "      <td>Web Development</td>\n",
       "      <td>Learn Build Polymer</td>\n",
       "      <td>20520.0</td>\n",
       "      <td>29</td>\n",
       "    </tr>\n",
       "    <tr>\n",
       "      <th>3681</th>\n",
       "      <td>3681</td>\n",
       "      <td>905096</td>\n",
       "      <td>CSS Animations: Create Amazing Effects on Your...</td>\n",
       "      <td>https://www.udemy.com/css-animations-create-am...</td>\n",
       "      <td>True</td>\n",
       "      <td>50.0</td>\n",
       "      <td>300</td>\n",
       "      <td>31</td>\n",
       "      <td>38</td>\n",
       "      <td>All Levels</td>\n",
       "      <td>3 hours</td>\n",
       "      <td>2016-08-11T19:06:15Z</td>\n",
       "      <td>Web Development</td>\n",
       "      <td>CSS Animations Create Amazing Effects Website</td>\n",
       "      <td>15000.0</td>\n",
       "      <td>54</td>\n",
       "    </tr>\n",
       "    <tr>\n",
       "      <th>3682</th>\n",
       "      <td>3682</td>\n",
       "      <td>297602</td>\n",
       "      <td>Using MODX CMS to Build Websites: A Beginner's...</td>\n",
       "      <td>https://www.udemy.com/using-modx-cms-to-build-...</td>\n",
       "      <td>True</td>\n",
       "      <td>45.0</td>\n",
       "      <td>901</td>\n",
       "      <td>36</td>\n",
       "      <td>20</td>\n",
       "      <td>Beginner Level</td>\n",
       "      <td>2 hours</td>\n",
       "      <td>2014-09-28T19:51:11Z</td>\n",
       "      <td>Web Development</td>\n",
       "      <td>MODX CMS Build Websites Beginners Guide</td>\n",
       "      <td>40545.0</td>\n",
       "      <td>52</td>\n",
       "    </tr>\n",
       "  </tbody>\n",
       "</table>\n",
       "<p>3683 rows × 16 columns</p>\n",
       "</div>"
      ],
      "text/plain": [
       "      Unnamed: 0  course_id  \\\n",
       "0              0    1070968   \n",
       "1              1    1113822   \n",
       "2              2    1006314   \n",
       "3              3    1210588   \n",
       "4              4    1011058   \n",
       "...          ...        ...   \n",
       "3678        3678     775618   \n",
       "3679        3679    1088178   \n",
       "3680        3680     635248   \n",
       "3681        3681     905096   \n",
       "3682        3682     297602   \n",
       "\n",
       "                                           course_title  \\\n",
       "0                    Ultimate Investment Banking Course   \n",
       "1     Complete GST Course & Certification - Grow You...   \n",
       "2     Financial Modeling for Business Analysts and C...   \n",
       "3     Beginner to Pro - Financial Analysis in Excel ...   \n",
       "4          How To Maximize Your Profits Trading Options   \n",
       "...                                                 ...   \n",
       "3678  Learn jQuery from Scratch - Master of JavaScri...   \n",
       "3679  How To Design A WordPress Website With No Codi...   \n",
       "3680                      Learn and Build using Polymer   \n",
       "3681  CSS Animations: Create Amazing Effects on Your...   \n",
       "3682  Using MODX CMS to Build Websites: A Beginner's...   \n",
       "\n",
       "                                                    url  is_paid  price  \\\n",
       "0     https://www.udemy.com/ultimate-investment-bank...     True  200.0   \n",
       "1         https://www.udemy.com/goods-and-services-tax/     True   75.0   \n",
       "2     https://www.udemy.com/financial-modeling-for-b...     True   45.0   \n",
       "3     https://www.udemy.com/complete-excel-finance-c...     True   95.0   \n",
       "4     https://www.udemy.com/how-to-maximize-your-pro...     True  200.0   \n",
       "...                                                 ...      ...    ...   \n",
       "3678  https://www.udemy.com/easy-jquery-for-beginner...     True  100.0   \n",
       "3679  https://www.udemy.com/how-to-make-a-wordpress-...     True   25.0   \n",
       "3680  https://www.udemy.com/learn-and-build-using-po...     True   40.0   \n",
       "3681  https://www.udemy.com/css-animations-create-am...     True   50.0   \n",
       "3682  https://www.udemy.com/using-modx-cms-to-build-...     True   45.0   \n",
       "\n",
       "      num_subscribers  num_reviews  num_lectures               level  \\\n",
       "0                2147           23            51          All Levels   \n",
       "1                2792          923           274          All Levels   \n",
       "2                2174           74            51  Intermediate Level   \n",
       "3                2451           11            36          All Levels   \n",
       "4                1276           45            26  Intermediate Level   \n",
       "...               ...          ...           ...                 ...   \n",
       "3678             1040           14            21          All Levels   \n",
       "3679              306            3            42      Beginner Level   \n",
       "3680              513          169            48          All Levels   \n",
       "3681              300           31            38          All Levels   \n",
       "3682              901           36            20      Beginner Level   \n",
       "\n",
       "     content_duration   published_timestamp           subject  \\\n",
       "0           1.5 hours  2017-01-18T20:58:58Z  Business Finance   \n",
       "1            39 hours  2017-03-09T16:34:20Z  Business Finance   \n",
       "2           2.5 hours  2016-12-19T19:26:30Z  Business Finance   \n",
       "3             3 hours  2017-05-30T20:07:24Z  Business Finance   \n",
       "4             2 hours  2016-12-13T14:57:18Z  Business Finance   \n",
       "...               ...                   ...               ...   \n",
       "3678          2 hours  2016-06-14T17:36:46Z   Web Development   \n",
       "3679        3.5 hours  2017-03-10T22:24:30Z   Web Development   \n",
       "3680        3.5 hours  2015-12-30T16:41:42Z   Web Development   \n",
       "3681          3 hours  2016-08-11T19:06:15Z   Web Development   \n",
       "3682          2 hours  2014-09-28T19:51:11Z   Web Development   \n",
       "\n",
       "                                     clean_course_title    profit  \\\n",
       "0                    Ultimate Investment Banking Course  429400.0   \n",
       "1     Complete GST Course  Certification  Grow Practice  209400.0   \n",
       "2      Financial Modeling Business Analysts Consultants   97830.0   \n",
       "3           Beginner Pro  Financial Analysis Excel 2017  232845.0   \n",
       "4                      Maximize Profits Trading Options  255200.0   \n",
       "...                                                 ...       ...   \n",
       "3678    Learn jQuery Scratch  Master JavaScript library  104000.0   \n",
       "3679                    Design WordPress Website Coding    7650.0   \n",
       "3680                                Learn Build Polymer   20520.0   \n",
       "3681      CSS Animations Create Amazing Effects Website   15000.0   \n",
       "3682            MODX CMS Build Websites Beginners Guide   40545.0   \n",
       "\n",
       "      course_title_len  \n",
       "0                   34  \n",
       "1                   59  \n",
       "2                   56  \n",
       "3                   50  \n",
       "4                   44  \n",
       "...                ...  \n",
       "3678                56  \n",
       "3679                55  \n",
       "3680                29  \n",
       "3681                54  \n",
       "3682                52  \n",
       "\n",
       "[3683 rows x 16 columns]"
      ]
     },
     "execution_count": 290,
     "metadata": {},
     "output_type": "execute_result"
    }
   ],
   "source": [
    "df"
   ]
  },
  {
   "cell_type": "code",
   "execution_count": 291,
   "id": "0cc2c03e",
   "metadata": {},
   "outputs": [
    {
     "data": {
      "text/plain": [
       "0       2017-01-18T20:58:58Z\n",
       "1       2017-03-09T16:34:20Z\n",
       "2       2016-12-19T19:26:30Z\n",
       "3       2017-05-30T20:07:24Z\n",
       "4       2016-12-13T14:57:18Z\n",
       "                ...         \n",
       "3678    2016-06-14T17:36:46Z\n",
       "3679    2017-03-10T22:24:30Z\n",
       "3680    2015-12-30T16:41:42Z\n",
       "3681    2016-08-11T19:06:15Z\n",
       "3682    2014-09-28T19:51:11Z\n",
       "Name: published_timestamp, Length: 3683, dtype: object"
      ]
     },
     "execution_count": 291,
     "metadata": {},
     "output_type": "execute_result"
    }
   ],
   "source": [
    "df['published_timestamp']"
   ]
  },
  {
   "cell_type": "code",
   "execution_count": 292,
   "id": "afe05d25",
   "metadata": {},
   "outputs": [
    {
     "data": {
      "text/plain": [
       "0       [2017-01-18, 20:58:58Z]\n",
       "1       [2017-03-09, 16:34:20Z]\n",
       "2       [2016-12-19, 19:26:30Z]\n",
       "3       [2017-05-30, 20:07:24Z]\n",
       "4       [2016-12-13, 14:57:18Z]\n",
       "                 ...           \n",
       "3678    [2016-06-14, 17:36:46Z]\n",
       "3679    [2017-03-10, 22:24:30Z]\n",
       "3680    [2015-12-30, 16:41:42Z]\n",
       "3681    [2016-08-11, 19:06:15Z]\n",
       "3682    [2014-09-28, 19:51:11Z]\n",
       "Name: published_timestamp, Length: 3683, dtype: object"
      ]
     },
     "execution_count": 292,
     "metadata": {},
     "output_type": "execute_result"
    }
   ],
   "source": [
    "df['published_timestamp'].str.split('T')"
   ]
  },
  {
   "cell_type": "code",
   "execution_count": 293,
   "id": "d5d606a9",
   "metadata": {},
   "outputs": [
    {
     "data": {
      "text/plain": [
       "0       2017-01-18\n",
       "1       2017-03-09\n",
       "2       2016-12-19\n",
       "3       2017-05-30\n",
       "4       2016-12-13\n",
       "           ...    \n",
       "3678    2016-06-14\n",
       "3679    2017-03-10\n",
       "3680    2015-12-30\n",
       "3681    2016-08-11\n",
       "3682    2014-09-28\n",
       "Name: published_timestamp, Length: 3683, dtype: object"
      ]
     },
     "execution_count": 293,
     "metadata": {},
     "output_type": "execute_result"
    }
   ],
   "source": [
    "published_date = df['published_date']= df['published_timestamp'].str.split('T').str.get(0)\n",
    "published_date"
   ]
  },
  {
   "cell_type": "code",
   "execution_count": 294,
   "id": "e24115e4",
   "metadata": {},
   "outputs": [],
   "source": [
    "published_date = published_date.str.replace('3 hours','2025-05-05')"
   ]
  },
  {
   "cell_type": "code",
   "execution_count": 295,
   "id": "150e9ecc",
   "metadata": {},
   "outputs": [],
   "source": [
    "published_date = pd.to_datetime(published_date,format='%Y-%m-%d')"
   ]
  },
  {
   "cell_type": "code",
   "execution_count": 296,
   "id": "5c238c0c",
   "metadata": {},
   "outputs": [
    {
     "data": {
      "text/plain": [
       "Unnamed: 0               int64\n",
       "course_id                int64\n",
       "course_title            object\n",
       "url                     object\n",
       "is_paid                   bool\n",
       "price                  float64\n",
       "num_subscribers          int64\n",
       "num_reviews              int64\n",
       "num_lectures             int64\n",
       "level                   object\n",
       "content_duration        object\n",
       "published_timestamp     object\n",
       "subject                 object\n",
       "clean_course_title      object\n",
       "profit                 float64\n",
       "course_title_len         int64\n",
       "published_date          object\n",
       "dtype: object"
      ]
     },
     "execution_count": 296,
     "metadata": {},
     "output_type": "execute_result"
    }
   ],
   "source": [
    "df.dtypes"
   ]
  },
  {
   "cell_type": "code",
   "execution_count": 297,
   "id": "f015e231",
   "metadata": {},
   "outputs": [
    {
     "data": {
      "text/plain": [
       "Unnamed: 0               int64\n",
       "course_id                int64\n",
       "course_title            object\n",
       "url                     object\n",
       "is_paid                   bool\n",
       "price                  float64\n",
       "num_subscribers          int64\n",
       "num_reviews              int64\n",
       "num_lectures             int64\n",
       "level                   object\n",
       "content_duration        object\n",
       "published_timestamp     object\n",
       "subject                 object\n",
       "clean_course_title      object\n",
       "profit                 float64\n",
       "course_title_len         int64\n",
       "published_date          object\n",
       "dtype: object"
      ]
     },
     "execution_count": 297,
     "metadata": {},
     "output_type": "execute_result"
    }
   ],
   "source": [
    "df.dtypes"
   ]
  },
  {
   "cell_type": "code",
   "execution_count": 298,
   "id": "d1b7dc5a",
   "metadata": {},
   "outputs": [],
   "source": [
    "#year \n",
    "year  = published_date.dt.year\n",
    "month = published_date.dt.month\n",
    "day   = published_date.dt.day"
   ]
  },
  {
   "cell_type": "code",
   "execution_count": 299,
   "id": "380ff381",
   "metadata": {},
   "outputs": [
    {
     "data": {
      "text/plain": [
       "array([2017, 2016, 2014, 2015, 2013, 2012, 2025, 2011], dtype=int32)"
      ]
     },
     "execution_count": 299,
     "metadata": {},
     "output_type": "execute_result"
    }
   ],
   "source": [
    "year.unique()"
   ]
  },
  {
   "cell_type": "code",
   "execution_count": 300,
   "id": "88b357aa",
   "metadata": {},
   "outputs": [
    {
     "data": {
      "image/png": "[encoded data removed]",
      "text/plain": [
       "<Figure size 640x480 with 1 Axes>"
      ]
     },
     "metadata": {},
     "output_type": "display_data"
    }
   ],
   "source": [
    "#get subscribe number per year\n",
    "df.groupby(year)['num_subscribers'].sum().plot(kind='bar')\n",
    "plt.show()"
   ]
  },
  {
   "cell_type": "code",
   "execution_count": 301,
   "id": "83b32cae",
   "metadata": {},
   "outputs": [
    {
     "data": {
      "image/png": "[encoded data removed]",
      "text/plain": [
       "<Figure size 2000x1000 with 1 Axes>"
      ]
     },
     "metadata": {},
     "output_type": "display_data"
    }
   ],
   "source": [
    "plt.figure(figsize=(20,10))\n",
    "sns.lineplot(x=year,y='num_subscribers',data=df, hue='subject', errorbar=None)\n",
    "plt.title('Plot of subscribe per year per subject category')\n",
    "plt.show()"
   ]
  },
  {
   "cell_type": "code",
   "execution_count": null,
   "id": "d9872210",
   "metadata": {},
   "outputs": [],
   "source": []
  }
 ],
 "metadata": {
  "kernelspec": {
   "display_name": "Python 3",
   "language": "python",
   "name": "python3"
  },
  "language_info": {
   "codemirror_mode": {
    "name": "ipython",
    "version": 3
   },
   "file_extension": ".py",
   "mimetype": "text/x-python",
   "name": "python",
   "nbconvert_exporter": "python",
   "pygments_lexer": "ipython3",
   "version": "3.12.8"
  }
 },
 "nbformat": 4,
 "nbformat_minor": 5
}
